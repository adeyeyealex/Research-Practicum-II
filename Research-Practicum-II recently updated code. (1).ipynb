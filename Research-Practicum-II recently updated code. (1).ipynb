{
 "cells": [
  {
   "cell_type": "code",
   "execution_count": 1,
   "metadata": {},
   "outputs": [
    {
     "name": "stderr",
     "output_type": "stream",
     "text": [
      "C:\\Users\\adeye\\anaconda3\\lib\\site-packages\\statsmodels\\tsa\\base\\tsa_model.py:7: FutureWarning: pandas.Int64Index is deprecated and will be removed from pandas in a future version. Use pandas.Index with the appropriate dtype instead.\n",
      "  from pandas import (to_datetime, Int64Index, DatetimeIndex, Period,\n",
      "C:\\Users\\adeye\\anaconda3\\lib\\site-packages\\statsmodels\\tsa\\base\\tsa_model.py:7: FutureWarning: pandas.Float64Index is deprecated and will be removed from pandas in a future version. Use pandas.Index with the appropriate dtype instead.\n",
      "  from pandas import (to_datetime, Int64Index, DatetimeIndex, Period,\n"
     ]
    }
   ],
   "source": [
    "# Step 1: Import libraries and load data\n",
    "import pandas as pd\n",
    "import numpy as np\n",
    "import datetime\n",
    "from sklearn.preprocessing import MinMaxScaler\n",
    "from keras.models import Sequential\n",
    "from keras.layers import Dense, LSTM\n",
    "from keras.layers import Dropout\n",
    "import matplotlib.pyplot as plt\n",
    "from pandas.plotting import lag_plot\n",
    "%matplotlib inline\n",
    "import seaborn as sns\n",
    "\n",
    "from sklearn.model_selection import train_test_split\n",
    "from statsmodels.tsa.arima_model import ARIMA\n",
    "from sklearn.metrics import mean_squared_error\n",
    "\n",
    "import warnings\n",
    "warnings.filterwarnings('ignore')"
   ]
  },
  {
   "cell_type": "code",
   "execution_count": 2,
   "metadata": {},
   "outputs": [],
   "source": [
    "# Download stock data for Microsoft (ticker symbol: MSFT) from Yahoo Finance\n",
    "msft = pd.read_csv(\"C:/Users/adeye/Downloads/MSFT.csv\")"
   ]
  },
  {
   "cell_type": "code",
   "execution_count": 3,
   "metadata": {},
   "outputs": [],
   "source": [
    "# Download gold data for gold (ticker symbol: GC=F) from Yahoo Finance\n",
    "gold = pd.read_csv(\"C:/Users/adeye/Downloads/Gold.csv\")"
   ]
  },
  {
   "cell_type": "code",
   "execution_count": 4,
   "metadata": {},
   "outputs": [],
   "source": [
    "inflation = pd.read_csv(\"C:/Users/adeye/OneDrive/Desktop/BLS Inflation data time series.csv\")"
   ]
  },
  {
   "cell_type": "code",
   "execution_count": 5,
   "metadata": {},
   "outputs": [],
   "source": [
    "unemployment = pd.read_csv(\"C:/Users/adeye/OneDrive//Desktop/BLS Unemployment rate time series.csv\")"
   ]
  },
  {
   "cell_type": "code",
   "execution_count": 6,
   "metadata": {},
   "outputs": [],
   "source": [
    "merged_df = gold.copy()\n",
    "merged_df = pd.merge(merged_df, inflation[['Date', 'Inflation']], on='Date', how='left')\n",
    "merged_df = pd.merge(merged_df, msft[['Date', 'Adj Close']], on='Date', how='left')\n",
    "merged_df = pd.merge(merged_df, unemployment[['Date', 'Unemployment']], on='Date', how='left')\n",
    "df = merged_df"
   ]
  },
  {
   "cell_type": "code",
   "execution_count": 7,
   "metadata": {},
   "outputs": [
    {
     "data": {
      "text/html": [
       "<div>\n",
       "<style scoped>\n",
       "    .dataframe tbody tr th:only-of-type {\n",
       "        vertical-align: middle;\n",
       "    }\n",
       "\n",
       "    .dataframe tbody tr th {\n",
       "        vertical-align: top;\n",
       "    }\n",
       "\n",
       "    .dataframe thead th {\n",
       "        text-align: right;\n",
       "    }\n",
       "</style>\n",
       "<table border=\"1\" class=\"dataframe\">\n",
       "  <thead>\n",
       "    <tr style=\"text-align: right;\">\n",
       "      <th></th>\n",
       "      <th>Date</th>\n",
       "      <th>Close/Last</th>\n",
       "      <th>Volume</th>\n",
       "      <th>Open</th>\n",
       "      <th>High</th>\n",
       "      <th>Low</th>\n",
       "      <th>Inflation</th>\n",
       "      <th>Adj Close</th>\n",
       "      <th>Unemployment</th>\n",
       "    </tr>\n",
       "  </thead>\n",
       "  <tbody>\n",
       "    <tr>\n",
       "      <th>0</th>\n",
       "      <td>3/24/2023</td>\n",
       "      <td>1983.8</td>\n",
       "      <td>276299.0</td>\n",
       "      <td>1996.1</td>\n",
       "      <td>2006.5</td>\n",
       "      <td>1977.7</td>\n",
       "      <td>NaN</td>\n",
       "      <td>280.57</td>\n",
       "      <td>NaN</td>\n",
       "    </tr>\n",
       "    <tr>\n",
       "      <th>1</th>\n",
       "      <td>3/23/2023</td>\n",
       "      <td>1995.9</td>\n",
       "      <td>257040.0</td>\n",
       "      <td>1974.0</td>\n",
       "      <td>2006.1</td>\n",
       "      <td>1967.3</td>\n",
       "      <td>NaN</td>\n",
       "      <td>277.66</td>\n",
       "      <td>NaN</td>\n",
       "    </tr>\n",
       "    <tr>\n",
       "      <th>2</th>\n",
       "      <td>3/22/2023</td>\n",
       "      <td>1949.6</td>\n",
       "      <td>240155.0</td>\n",
       "      <td>1943.5</td>\n",
       "      <td>1982.3</td>\n",
       "      <td>1936.5</td>\n",
       "      <td>NaN</td>\n",
       "      <td>272.29</td>\n",
       "      <td>NaN</td>\n",
       "    </tr>\n",
       "    <tr>\n",
       "      <th>3</th>\n",
       "      <td>3/21/2023</td>\n",
       "      <td>1941.1</td>\n",
       "      <td>242914.0</td>\n",
       "      <td>1983.1</td>\n",
       "      <td>1988.7</td>\n",
       "      <td>1938.6</td>\n",
       "      <td>NaN</td>\n",
       "      <td>273.78</td>\n",
       "      <td>NaN</td>\n",
       "    </tr>\n",
       "    <tr>\n",
       "      <th>4</th>\n",
       "      <td>3/20/2023</td>\n",
       "      <td>1999.7</td>\n",
       "      <td>66038.0</td>\n",
       "      <td>2008.6</td>\n",
       "      <td>2031.7</td>\n",
       "      <td>1987.0</td>\n",
       "      <td>NaN</td>\n",
       "      <td>272.23</td>\n",
       "      <td>NaN</td>\n",
       "    </tr>\n",
       "    <tr>\n",
       "      <th>...</th>\n",
       "      <td>...</td>\n",
       "      <td>...</td>\n",
       "      <td>...</td>\n",
       "      <td>...</td>\n",
       "      <td>...</td>\n",
       "      <td>...</td>\n",
       "      <td>...</td>\n",
       "      <td>...</td>\n",
       "      <td>...</td>\n",
       "    </tr>\n",
       "    <tr>\n",
       "      <th>2538</th>\n",
       "      <td>4/1/2013</td>\n",
       "      <td>1600.9</td>\n",
       "      <td>57638.0</td>\n",
       "      <td>1598.1</td>\n",
       "      <td>1601.6</td>\n",
       "      <td>1595.2</td>\n",
       "      <td>-0.2</td>\n",
       "      <td>23.73</td>\n",
       "      <td>7.6</td>\n",
       "    </tr>\n",
       "    <tr>\n",
       "      <th>2539</th>\n",
       "      <td>3/29/2013</td>\n",
       "      <td>1595.7</td>\n",
       "      <td>NaN</td>\n",
       "      <td>1595.7</td>\n",
       "      <td>1595.7</td>\n",
       "      <td>1595.7</td>\n",
       "      <td>-0.3</td>\n",
       "      <td>NaN</td>\n",
       "      <td>7.5</td>\n",
       "    </tr>\n",
       "    <tr>\n",
       "      <th>2540</th>\n",
       "      <td>3/28/2013</td>\n",
       "      <td>1595.7</td>\n",
       "      <td>105714.0</td>\n",
       "      <td>1605.6</td>\n",
       "      <td>1608.3</td>\n",
       "      <td>1594.3</td>\n",
       "      <td>-0.3</td>\n",
       "      <td>23.73</td>\n",
       "      <td>7.5</td>\n",
       "    </tr>\n",
       "    <tr>\n",
       "      <th>2541</th>\n",
       "      <td>3/27/2013</td>\n",
       "      <td>1607.2</td>\n",
       "      <td>152626.0</td>\n",
       "      <td>1601.0</td>\n",
       "      <td>1609.0</td>\n",
       "      <td>1591.9</td>\n",
       "      <td>-0.3</td>\n",
       "      <td>23.53</td>\n",
       "      <td>7.5</td>\n",
       "    </tr>\n",
       "    <tr>\n",
       "      <th>2542</th>\n",
       "      <td>3/26/2013</td>\n",
       "      <td>1597.3</td>\n",
       "      <td>125380.0</td>\n",
       "      <td>1606.5</td>\n",
       "      <td>1606.9</td>\n",
       "      <td>1595.2</td>\n",
       "      <td>-0.3</td>\n",
       "      <td>23.35</td>\n",
       "      <td>7.5</td>\n",
       "    </tr>\n",
       "  </tbody>\n",
       "</table>\n",
       "<p>2543 rows × 9 columns</p>\n",
       "</div>"
      ],
      "text/plain": [
       "           Date  Close/Last    Volume    Open    High     Low  Inflation  \\\n",
       "0     3/24/2023      1983.8  276299.0  1996.1  2006.5  1977.7        NaN   \n",
       "1     3/23/2023      1995.9  257040.0  1974.0  2006.1  1967.3        NaN   \n",
       "2     3/22/2023      1949.6  240155.0  1943.5  1982.3  1936.5        NaN   \n",
       "3     3/21/2023      1941.1  242914.0  1983.1  1988.7  1938.6        NaN   \n",
       "4     3/20/2023      1999.7   66038.0  2008.6  2031.7  1987.0        NaN   \n",
       "...         ...         ...       ...     ...     ...     ...        ...   \n",
       "2538   4/1/2013      1600.9   57638.0  1598.1  1601.6  1595.2       -0.2   \n",
       "2539  3/29/2013      1595.7       NaN  1595.7  1595.7  1595.7       -0.3   \n",
       "2540  3/28/2013      1595.7  105714.0  1605.6  1608.3  1594.3       -0.3   \n",
       "2541  3/27/2013      1607.2  152626.0  1601.0  1609.0  1591.9       -0.3   \n",
       "2542  3/26/2013      1597.3  125380.0  1606.5  1606.9  1595.2       -0.3   \n",
       "\n",
       "      Adj Close  Unemployment  \n",
       "0        280.57           NaN  \n",
       "1        277.66           NaN  \n",
       "2        272.29           NaN  \n",
       "3        273.78           NaN  \n",
       "4        272.23           NaN  \n",
       "...         ...           ...  \n",
       "2538      23.73           7.6  \n",
       "2539        NaN           7.5  \n",
       "2540      23.73           7.5  \n",
       "2541      23.53           7.5  \n",
       "2542      23.35           7.5  \n",
       "\n",
       "[2543 rows x 9 columns]"
      ]
     },
     "execution_count": 7,
     "metadata": {},
     "output_type": "execute_result"
    }
   ],
   "source": [
    "df"
   ]
  },
  {
   "cell_type": "code",
   "execution_count": 8,
   "metadata": {},
   "outputs": [
    {
     "data": {
      "text/html": [
       "<div>\n",
       "<style scoped>\n",
       "    .dataframe tbody tr th:only-of-type {\n",
       "        vertical-align: middle;\n",
       "    }\n",
       "\n",
       "    .dataframe tbody tr th {\n",
       "        vertical-align: top;\n",
       "    }\n",
       "\n",
       "    .dataframe thead th {\n",
       "        text-align: right;\n",
       "    }\n",
       "</style>\n",
       "<table border=\"1\" class=\"dataframe\">\n",
       "  <thead>\n",
       "    <tr style=\"text-align: right;\">\n",
       "      <th></th>\n",
       "      <th>Date</th>\n",
       "      <th>Close/Last</th>\n",
       "      <th>Volume</th>\n",
       "      <th>Open</th>\n",
       "      <th>High</th>\n",
       "      <th>Low</th>\n",
       "      <th>Inflation</th>\n",
       "      <th>Adj Close</th>\n",
       "      <th>Unemployment</th>\n",
       "    </tr>\n",
       "  </thead>\n",
       "  <tbody>\n",
       "    <tr>\n",
       "      <th>0</th>\n",
       "      <td>3/24/2023</td>\n",
       "      <td>1983.8</td>\n",
       "      <td>276299.0</td>\n",
       "      <td>1996.1</td>\n",
       "      <td>2006.5</td>\n",
       "      <td>1977.7</td>\n",
       "      <td>NaN</td>\n",
       "      <td>280.57</td>\n",
       "      <td>NaN</td>\n",
       "    </tr>\n",
       "    <tr>\n",
       "      <th>1</th>\n",
       "      <td>3/23/2023</td>\n",
       "      <td>1995.9</td>\n",
       "      <td>257040.0</td>\n",
       "      <td>1974.0</td>\n",
       "      <td>2006.1</td>\n",
       "      <td>1967.3</td>\n",
       "      <td>NaN</td>\n",
       "      <td>277.66</td>\n",
       "      <td>NaN</td>\n",
       "    </tr>\n",
       "    <tr>\n",
       "      <th>2</th>\n",
       "      <td>3/22/2023</td>\n",
       "      <td>1949.6</td>\n",
       "      <td>240155.0</td>\n",
       "      <td>1943.5</td>\n",
       "      <td>1982.3</td>\n",
       "      <td>1936.5</td>\n",
       "      <td>NaN</td>\n",
       "      <td>272.29</td>\n",
       "      <td>NaN</td>\n",
       "    </tr>\n",
       "    <tr>\n",
       "      <th>3</th>\n",
       "      <td>3/21/2023</td>\n",
       "      <td>1941.1</td>\n",
       "      <td>242914.0</td>\n",
       "      <td>1983.1</td>\n",
       "      <td>1988.7</td>\n",
       "      <td>1938.6</td>\n",
       "      <td>NaN</td>\n",
       "      <td>273.78</td>\n",
       "      <td>NaN</td>\n",
       "    </tr>\n",
       "    <tr>\n",
       "      <th>4</th>\n",
       "      <td>3/20/2023</td>\n",
       "      <td>1999.7</td>\n",
       "      <td>66038.0</td>\n",
       "      <td>2008.6</td>\n",
       "      <td>2031.7</td>\n",
       "      <td>1987.0</td>\n",
       "      <td>NaN</td>\n",
       "      <td>272.23</td>\n",
       "      <td>NaN</td>\n",
       "    </tr>\n",
       "    <tr>\n",
       "      <th>5</th>\n",
       "      <td>3/17/2023</td>\n",
       "      <td>1990.2</td>\n",
       "      <td>63433.0</td>\n",
       "      <td>1942.7</td>\n",
       "      <td>2010.4</td>\n",
       "      <td>1939.1</td>\n",
       "      <td>NaN</td>\n",
       "      <td>279.43</td>\n",
       "      <td>NaN</td>\n",
       "    </tr>\n",
       "    <tr>\n",
       "      <th>6</th>\n",
       "      <td>3/16/2023</td>\n",
       "      <td>1923.0</td>\n",
       "      <td>242983.0</td>\n",
       "      <td>1922.8</td>\n",
       "      <td>1938.0</td>\n",
       "      <td>1911.5</td>\n",
       "      <td>NaN</td>\n",
       "      <td>276.20</td>\n",
       "      <td>NaN</td>\n",
       "    </tr>\n",
       "    <tr>\n",
       "      <th>7</th>\n",
       "      <td>3/15/2023</td>\n",
       "      <td>1931.3</td>\n",
       "      <td>376775.0</td>\n",
       "      <td>1908.2</td>\n",
       "      <td>1942.5</td>\n",
       "      <td>1889.5</td>\n",
       "      <td>NaN</td>\n",
       "      <td>265.44</td>\n",
       "      <td>NaN</td>\n",
       "    </tr>\n",
       "    <tr>\n",
       "      <th>8</th>\n",
       "      <td>3/14/2023</td>\n",
       "      <td>1910.9</td>\n",
       "      <td>254442.0</td>\n",
       "      <td>1919.4</td>\n",
       "      <td>1919.4</td>\n",
       "      <td>1899.8</td>\n",
       "      <td>NaN</td>\n",
       "      <td>260.79</td>\n",
       "      <td>NaN</td>\n",
       "    </tr>\n",
       "    <tr>\n",
       "      <th>9</th>\n",
       "      <td>3/13/2023</td>\n",
       "      <td>1916.5</td>\n",
       "      <td>426262.0</td>\n",
       "      <td>1877.1</td>\n",
       "      <td>1919.5</td>\n",
       "      <td>1875.7</td>\n",
       "      <td>NaN</td>\n",
       "      <td>253.92</td>\n",
       "      <td>NaN</td>\n",
       "    </tr>\n",
       "  </tbody>\n",
       "</table>\n",
       "</div>"
      ],
      "text/plain": [
       "        Date  Close/Last    Volume    Open    High     Low  Inflation  \\\n",
       "0  3/24/2023      1983.8  276299.0  1996.1  2006.5  1977.7        NaN   \n",
       "1  3/23/2023      1995.9  257040.0  1974.0  2006.1  1967.3        NaN   \n",
       "2  3/22/2023      1949.6  240155.0  1943.5  1982.3  1936.5        NaN   \n",
       "3  3/21/2023      1941.1  242914.0  1983.1  1988.7  1938.6        NaN   \n",
       "4  3/20/2023      1999.7   66038.0  2008.6  2031.7  1987.0        NaN   \n",
       "5  3/17/2023      1990.2   63433.0  1942.7  2010.4  1939.1        NaN   \n",
       "6  3/16/2023      1923.0  242983.0  1922.8  1938.0  1911.5        NaN   \n",
       "7  3/15/2023      1931.3  376775.0  1908.2  1942.5  1889.5        NaN   \n",
       "8  3/14/2023      1910.9  254442.0  1919.4  1919.4  1899.8        NaN   \n",
       "9  3/13/2023      1916.5  426262.0  1877.1  1919.5  1875.7        NaN   \n",
       "\n",
       "   Adj Close  Unemployment  \n",
       "0     280.57           NaN  \n",
       "1     277.66           NaN  \n",
       "2     272.29           NaN  \n",
       "3     273.78           NaN  \n",
       "4     272.23           NaN  \n",
       "5     279.43           NaN  \n",
       "6     276.20           NaN  \n",
       "7     265.44           NaN  \n",
       "8     260.79           NaN  \n",
       "9     253.92           NaN  "
      ]
     },
     "execution_count": 8,
     "metadata": {},
     "output_type": "execute_result"
    }
   ],
   "source": [
    "df.head(10)"
   ]
  },
  {
   "cell_type": "code",
   "execution_count": 9,
   "metadata": {},
   "outputs": [
    {
     "name": "stdout",
     "output_type": "stream",
     "text": [
      "<class 'pandas.core.frame.DataFrame'>\n",
      "Int64Index: 2543 entries, 0 to 2542\n",
      "Data columns (total 9 columns):\n",
      " #   Column        Non-Null Count  Dtype  \n",
      "---  ------        --------------  -----  \n",
      " 0   Date          2543 non-null   object \n",
      " 1   Close/Last    2543 non-null   float64\n",
      " 2   Volume        2509 non-null   float64\n",
      " 3   Open          2543 non-null   float64\n",
      " 4   High          2543 non-null   float64\n",
      " 5   Low           2543 non-null   float64\n",
      " 6   Inflation     2525 non-null   float64\n",
      " 7   Adj Close     2518 non-null   float64\n",
      " 8   Unemployment  2525 non-null   float64\n",
      "dtypes: float64(8), object(1)\n",
      "memory usage: 198.7+ KB\n"
     ]
    }
   ],
   "source": [
    "df.info()"
   ]
  },
  {
   "cell_type": "code",
   "execution_count": 10,
   "metadata": {},
   "outputs": [
    {
     "data": {
      "text/html": [
       "<div>\n",
       "<style scoped>\n",
       "    .dataframe tbody tr th:only-of-type {\n",
       "        vertical-align: middle;\n",
       "    }\n",
       "\n",
       "    .dataframe tbody tr th {\n",
       "        vertical-align: top;\n",
       "    }\n",
       "\n",
       "    .dataframe thead th {\n",
       "        text-align: right;\n",
       "    }\n",
       "</style>\n",
       "<table border=\"1\" class=\"dataframe\">\n",
       "  <thead>\n",
       "    <tr style=\"text-align: right;\">\n",
       "      <th></th>\n",
       "      <th>Close/Last</th>\n",
       "      <th>Volume</th>\n",
       "      <th>Open</th>\n",
       "      <th>High</th>\n",
       "      <th>Low</th>\n",
       "      <th>Inflation</th>\n",
       "      <th>Adj Close</th>\n",
       "      <th>Unemployment</th>\n",
       "    </tr>\n",
       "  </thead>\n",
       "  <tbody>\n",
       "    <tr>\n",
       "      <th>count</th>\n",
       "      <td>2543.000000</td>\n",
       "      <td>2509.000000</td>\n",
       "      <td>2543.000000</td>\n",
       "      <td>2543.000000</td>\n",
       "      <td>2543.000000</td>\n",
       "      <td>2525.000000</td>\n",
       "      <td>2518.000000</td>\n",
       "      <td>2525.000000</td>\n",
       "    </tr>\n",
       "    <tr>\n",
       "      <th>mean</th>\n",
       "      <td>1444.096382</td>\n",
       "      <td>183547.520526</td>\n",
       "      <td>1444.140149</td>\n",
       "      <td>1453.782816</td>\n",
       "      <td>1434.241054</td>\n",
       "      <td>0.207287</td>\n",
       "      <td>122.220933</td>\n",
       "      <td>5.206297</td>\n",
       "    </tr>\n",
       "    <tr>\n",
       "      <th>std</th>\n",
       "      <td>264.464487</td>\n",
       "      <td>97791.998654</td>\n",
       "      <td>264.652815</td>\n",
       "      <td>266.697621</td>\n",
       "      <td>262.007421</td>\n",
       "      <td>0.267735</td>\n",
       "      <td>91.702277</td>\n",
       "      <td>1.785810</td>\n",
       "    </tr>\n",
       "    <tr>\n",
       "      <th>min</th>\n",
       "      <td>1049.600000</td>\n",
       "      <td>1.000000</td>\n",
       "      <td>1051.500000</td>\n",
       "      <td>1062.700000</td>\n",
       "      <td>1045.400000</td>\n",
       "      <td>-0.800000</td>\n",
       "      <td>23.350000</td>\n",
       "      <td>3.400000</td>\n",
       "    </tr>\n",
       "    <tr>\n",
       "      <th>25%</th>\n",
       "      <td>1243.400000</td>\n",
       "      <td>122559.000000</td>\n",
       "      <td>1242.900000</td>\n",
       "      <td>1250.900000</td>\n",
       "      <td>1235.150000</td>\n",
       "      <td>0.100000</td>\n",
       "      <td>42.192500</td>\n",
       "      <td>3.900000</td>\n",
       "    </tr>\n",
       "    <tr>\n",
       "      <th>50%</th>\n",
       "      <td>1318.400000</td>\n",
       "      <td>170994.000000</td>\n",
       "      <td>1318.900000</td>\n",
       "      <td>1326.000000</td>\n",
       "      <td>1310.800000</td>\n",
       "      <td>0.200000</td>\n",
       "      <td>88.290000</td>\n",
       "      <td>4.900000</td>\n",
       "    </tr>\n",
       "    <tr>\n",
       "      <th>75%</th>\n",
       "      <td>1731.700000</td>\n",
       "      <td>233106.000000</td>\n",
       "      <td>1732.950000</td>\n",
       "      <td>1743.750000</td>\n",
       "      <td>1721.150000</td>\n",
       "      <td>0.300000</td>\n",
       "      <td>206.517500</td>\n",
       "      <td>6.100000</td>\n",
       "    </tr>\n",
       "    <tr>\n",
       "      <th>max</th>\n",
       "      <td>2069.400000</td>\n",
       "      <td>787217.000000</td>\n",
       "      <td>2076.400000</td>\n",
       "      <td>2082.100000</td>\n",
       "      <td>2049.000000</td>\n",
       "      <td>1.200000</td>\n",
       "      <td>339.080000</td>\n",
       "      <td>14.700000</td>\n",
       "    </tr>\n",
       "  </tbody>\n",
       "</table>\n",
       "</div>"
      ],
      "text/plain": [
       "        Close/Last         Volume         Open         High          Low  \\\n",
       "count  2543.000000    2509.000000  2543.000000  2543.000000  2543.000000   \n",
       "mean   1444.096382  183547.520526  1444.140149  1453.782816  1434.241054   \n",
       "std     264.464487   97791.998654   264.652815   266.697621   262.007421   \n",
       "min    1049.600000       1.000000  1051.500000  1062.700000  1045.400000   \n",
       "25%    1243.400000  122559.000000  1242.900000  1250.900000  1235.150000   \n",
       "50%    1318.400000  170994.000000  1318.900000  1326.000000  1310.800000   \n",
       "75%    1731.700000  233106.000000  1732.950000  1743.750000  1721.150000   \n",
       "max    2069.400000  787217.000000  2076.400000  2082.100000  2049.000000   \n",
       "\n",
       "         Inflation    Adj Close  Unemployment  \n",
       "count  2525.000000  2518.000000   2525.000000  \n",
       "mean      0.207287   122.220933      5.206297  \n",
       "std       0.267735    91.702277      1.785810  \n",
       "min      -0.800000    23.350000      3.400000  \n",
       "25%       0.100000    42.192500      3.900000  \n",
       "50%       0.200000    88.290000      4.900000  \n",
       "75%       0.300000   206.517500      6.100000  \n",
       "max       1.200000   339.080000     14.700000  "
      ]
     },
     "execution_count": 10,
     "metadata": {},
     "output_type": "execute_result"
    }
   ],
   "source": [
    "df.describe()"
   ]
  },
  {
   "cell_type": "code",
   "execution_count": 11,
   "metadata": {},
   "outputs": [
    {
     "data": {
      "text/plain": [
       "Date             0\n",
       "Close/Last       0\n",
       "Volume          34\n",
       "Open             0\n",
       "High             0\n",
       "Low              0\n",
       "Inflation       18\n",
       "Adj Close       25\n",
       "Unemployment    18\n",
       "dtype: int64"
      ]
     },
     "execution_count": 11,
     "metadata": {},
     "output_type": "execute_result"
    }
   ],
   "source": [
    "df.isnull().sum()"
   ]
  },
  {
   "cell_type": "code",
   "execution_count": 12,
   "metadata": {},
   "outputs": [
    {
     "data": {
      "text/plain": [
       "[<matplotlib.lines.Line2D at 0x21196b04550>]"
      ]
     },
     "execution_count": 12,
     "metadata": {},
     "output_type": "execute_result"
    },
    {
     "data": {
      "image/png": "[encoded data removed]",
      "text/plain": [
       "<Figure size 1152x576 with 1 Axes>"
      ]
     },
     "metadata": {
      "needs_background": "light"
     },
     "output_type": "display_data"
    }
   ],
   "source": [
    "df[\"Date\"]=pd.to_datetime(df.Date,format=\"%m/%d/%Y\")\n",
    "df.index=df['Date']\n",
    "plt.figure(figsize=(16,8))\n",
    "plt.plot(df[\"Adj Close\"],label='Close Price history')"
   ]
  },
  {
   "cell_type": "code",
   "execution_count": 13,
   "metadata": {},
   "outputs": [],
   "source": [
    "from sklearn.impute import KNNImputer"
   ]
  },
  {
   "cell_type": "code",
   "execution_count": 14,
   "metadata": {},
   "outputs": [
    {
     "name": "stdout",
     "output_type": "stream",
     "text": [
      "                    Date  Close/Last         Volume    Open    High     Low  \\\n",
      "Date                                                                          \n",
      "2023-03-24  1.679616e+18      1983.8  276299.000000  1996.1  2006.5  1977.7   \n",
      "2023-03-23  1.679530e+18      1995.9  257040.000000  1974.0  2006.1  1967.3   \n",
      "2023-03-22  1.679443e+18      1949.6  240155.000000  1943.5  1982.3  1936.5   \n",
      "2023-03-21  1.679357e+18      1941.1  242914.000000  1983.1  1988.7  1938.6   \n",
      "2023-03-20  1.679270e+18      1999.7   66038.000000  2008.6  2031.7  1987.0   \n",
      "...                  ...         ...            ...     ...     ...     ...   \n",
      "2013-04-01  1.364774e+18      1600.9   57638.000000  1598.1  1601.6  1595.2   \n",
      "2013-03-29  1.364515e+18      1595.7  183547.520526  1595.7  1595.7  1595.7   \n",
      "2013-03-28  1.364429e+18      1595.7  105714.000000  1605.6  1608.3  1594.3   \n",
      "2013-03-27  1.364342e+18      1607.2  152626.000000  1601.0  1609.0  1591.9   \n",
      "2013-03-26  1.364256e+18      1597.3  125380.000000  1606.5  1606.9  1595.2   \n",
      "\n",
      "            Inflation   Adj Close  Unemployment  \n",
      "Date                                             \n",
      "2023-03-24   0.207287  280.570000      5.206297  \n",
      "2023-03-23   0.207287  277.660000      5.206297  \n",
      "2023-03-22   0.207287  272.290000      5.206297  \n",
      "2023-03-21   0.207287  273.780000      5.206297  \n",
      "2023-03-20   0.207287  272.230000      5.206297  \n",
      "...               ...         ...           ...  \n",
      "2013-04-01  -0.200000   23.730000      7.600000  \n",
      "2013-03-29  -0.300000  122.220933      7.500000  \n",
      "2013-03-28  -0.300000   23.730000      7.500000  \n",
      "2013-03-27  -0.300000   23.530000      7.500000  \n",
      "2013-03-26  -0.300000   23.350000      7.500000  \n",
      "\n",
      "[2543 rows x 9 columns]\n"
     ]
    }
   ],
   "source": [
    "n_neighbors = 5\n",
    "\n",
    "# create a k-NN imputer object\n",
    "imputer = KNNImputer(n_neighbors=n_neighbors)\n",
    "\n",
    "# loop over each column in the DataFrame\n",
    "for column in df.columns:\n",
    "    # get the column data as a numpy array\n",
    "    column_data = df[column].values.reshape(-1, 1)\n",
    "    \n",
    "    # use k-NN imputation to fill in missing values\n",
    "    imputer.fit(column_data)\n",
    "    column_data_imputed = imputer.transform(column_data)\n",
    "    \n",
    "    # replace the original column with the imputed column\n",
    "    df[column] = column_data_imputed.flatten()\n",
    "\n",
    "print(df)"
   ]
  },
  {
   "cell_type": "code",
   "execution_count": 15,
   "metadata": {},
   "outputs": [
    {
     "data": {
      "text/html": [
       "<div>\n",
       "<style scoped>\n",
       "    .dataframe tbody tr th:only-of-type {\n",
       "        vertical-align: middle;\n",
       "    }\n",
       "\n",
       "    .dataframe tbody tr th {\n",
       "        vertical-align: top;\n",
       "    }\n",
       "\n",
       "    .dataframe thead th {\n",
       "        text-align: right;\n",
       "    }\n",
       "</style>\n",
       "<table border=\"1\" class=\"dataframe\">\n",
       "  <thead>\n",
       "    <tr style=\"text-align: right;\">\n",
       "      <th></th>\n",
       "      <th>Date</th>\n",
       "      <th>Close/Last</th>\n",
       "      <th>Volume</th>\n",
       "      <th>Open</th>\n",
       "      <th>High</th>\n",
       "      <th>Low</th>\n",
       "      <th>Inflation</th>\n",
       "      <th>Adj Close</th>\n",
       "      <th>Unemployment</th>\n",
       "    </tr>\n",
       "    <tr>\n",
       "      <th>Date</th>\n",
       "      <th></th>\n",
       "      <th></th>\n",
       "      <th></th>\n",
       "      <th></th>\n",
       "      <th></th>\n",
       "      <th></th>\n",
       "      <th></th>\n",
       "      <th></th>\n",
       "      <th></th>\n",
       "    </tr>\n",
       "  </thead>\n",
       "  <tbody>\n",
       "    <tr>\n",
       "      <th>2023-03-24</th>\n",
       "      <td>1.679616e+18</td>\n",
       "      <td>1983.8</td>\n",
       "      <td>276299.0</td>\n",
       "      <td>1996.1</td>\n",
       "      <td>2006.5</td>\n",
       "      <td>1977.7</td>\n",
       "      <td>0.207287</td>\n",
       "      <td>280.57</td>\n",
       "      <td>5.206297</td>\n",
       "    </tr>\n",
       "    <tr>\n",
       "      <th>2023-03-23</th>\n",
       "      <td>1.679530e+18</td>\n",
       "      <td>1995.9</td>\n",
       "      <td>257040.0</td>\n",
       "      <td>1974.0</td>\n",
       "      <td>2006.1</td>\n",
       "      <td>1967.3</td>\n",
       "      <td>0.207287</td>\n",
       "      <td>277.66</td>\n",
       "      <td>5.206297</td>\n",
       "    </tr>\n",
       "    <tr>\n",
       "      <th>2023-03-22</th>\n",
       "      <td>1.679443e+18</td>\n",
       "      <td>1949.6</td>\n",
       "      <td>240155.0</td>\n",
       "      <td>1943.5</td>\n",
       "      <td>1982.3</td>\n",
       "      <td>1936.5</td>\n",
       "      <td>0.207287</td>\n",
       "      <td>272.29</td>\n",
       "      <td>5.206297</td>\n",
       "    </tr>\n",
       "    <tr>\n",
       "      <th>2023-03-21</th>\n",
       "      <td>1.679357e+18</td>\n",
       "      <td>1941.1</td>\n",
       "      <td>242914.0</td>\n",
       "      <td>1983.1</td>\n",
       "      <td>1988.7</td>\n",
       "      <td>1938.6</td>\n",
       "      <td>0.207287</td>\n",
       "      <td>273.78</td>\n",
       "      <td>5.206297</td>\n",
       "    </tr>\n",
       "    <tr>\n",
       "      <th>2023-03-20</th>\n",
       "      <td>1.679270e+18</td>\n",
       "      <td>1999.7</td>\n",
       "      <td>66038.0</td>\n",
       "      <td>2008.6</td>\n",
       "      <td>2031.7</td>\n",
       "      <td>1987.0</td>\n",
       "      <td>0.207287</td>\n",
       "      <td>272.23</td>\n",
       "      <td>5.206297</td>\n",
       "    </tr>\n",
       "  </tbody>\n",
       "</table>\n",
       "</div>"
      ],
      "text/plain": [
       "                    Date  Close/Last    Volume    Open    High     Low  \\\n",
       "Date                                                                     \n",
       "2023-03-24  1.679616e+18      1983.8  276299.0  1996.1  2006.5  1977.7   \n",
       "2023-03-23  1.679530e+18      1995.9  257040.0  1974.0  2006.1  1967.3   \n",
       "2023-03-22  1.679443e+18      1949.6  240155.0  1943.5  1982.3  1936.5   \n",
       "2023-03-21  1.679357e+18      1941.1  242914.0  1983.1  1988.7  1938.6   \n",
       "2023-03-20  1.679270e+18      1999.7   66038.0  2008.6  2031.7  1987.0   \n",
       "\n",
       "            Inflation  Adj Close  Unemployment  \n",
       "Date                                            \n",
       "2023-03-24   0.207287     280.57      5.206297  \n",
       "2023-03-23   0.207287     277.66      5.206297  \n",
       "2023-03-22   0.207287     272.29      5.206297  \n",
       "2023-03-21   0.207287     273.78      5.206297  \n",
       "2023-03-20   0.207287     272.23      5.206297  "
      ]
     },
     "execution_count": 15,
     "metadata": {},
     "output_type": "execute_result"
    }
   ],
   "source": [
    "df.head()"
   ]
  },
  {
   "cell_type": "code",
   "execution_count": 16,
   "metadata": {},
   "outputs": [
    {
     "data": {
      "text/plain": [
       "Date            0\n",
       "Close/Last      0\n",
       "Volume          0\n",
       "Open            0\n",
       "High            0\n",
       "Low             0\n",
       "Inflation       0\n",
       "Adj Close       0\n",
       "Unemployment    0\n",
       "dtype: int64"
      ]
     },
     "execution_count": 16,
     "metadata": {},
     "output_type": "execute_result"
    }
   ],
   "source": [
    "df.isnull().sum()"
   ]
  },
  {
   "cell_type": "code",
   "execution_count": 17,
   "metadata": {},
   "outputs": [
    {
     "name": "stdout",
     "output_type": "stream",
     "text": [
      "<class 'pandas.core.frame.DataFrame'>\n",
      "DatetimeIndex: 2543 entries, 2023-03-24 to 2013-03-26\n",
      "Data columns (total 9 columns):\n",
      " #   Column        Non-Null Count  Dtype  \n",
      "---  ------        --------------  -----  \n",
      " 0   Date          2543 non-null   float64\n",
      " 1   Close/Last    2543 non-null   float64\n",
      " 2   Volume        2543 non-null   float64\n",
      " 3   Open          2543 non-null   float64\n",
      " 4   High          2543 non-null   float64\n",
      " 5   Low           2543 non-null   float64\n",
      " 6   Inflation     2543 non-null   float64\n",
      " 7   Adj Close     2543 non-null   float64\n",
      " 8   Unemployment  2543 non-null   float64\n",
      "dtypes: float64(9)\n",
      "memory usage: 198.7 KB\n"
     ]
    }
   ],
   "source": [
    "df.info()"
   ]
  },
  {
   "cell_type": "code",
   "execution_count": 18,
   "metadata": {},
   "outputs": [
    {
     "data": {
      "image/png": "[encoded data removed]",
      "text/plain": [
       "<Figure size 432x288 with 2 Axes>"
      ]
     },
     "metadata": {
      "needs_background": "light"
     },
     "output_type": "display_data"
    }
   ],
   "source": [
    "_ = sns.heatmap(df.corr())"
   ]
  },
  {
   "cell_type": "code",
   "execution_count": 19,
   "metadata": {},
   "outputs": [],
   "source": [
    "Cleansed_df = df.drop(['Date', 'Volume', 'Open', 'High', 'Low', 'Unemployment'], axis=1)"
   ]
  },
  {
   "cell_type": "code",
   "execution_count": 20,
   "metadata": {},
   "outputs": [],
   "source": [
    "Cleansed_df.rename(columns = {'Close/Last':'Gold Price', 'Inflation':'Inflation Rate', 'Adj Close':'MSFT Stock Price'}, inplace = True)"
   ]
  },
  {
   "cell_type": "code",
   "execution_count": 21,
   "metadata": {},
   "outputs": [
    {
     "data": {
      "text/html": [
       "<div>\n",
       "<style scoped>\n",
       "    .dataframe tbody tr th:only-of-type {\n",
       "        vertical-align: middle;\n",
       "    }\n",
       "\n",
       "    .dataframe tbody tr th {\n",
       "        vertical-align: top;\n",
       "    }\n",
       "\n",
       "    .dataframe thead th {\n",
       "        text-align: right;\n",
       "    }\n",
       "</style>\n",
       "<table border=\"1\" class=\"dataframe\">\n",
       "  <thead>\n",
       "    <tr style=\"text-align: right;\">\n",
       "      <th></th>\n",
       "      <th>Gold Price</th>\n",
       "      <th>Inflation Rate</th>\n",
       "      <th>MSFT Stock Price</th>\n",
       "    </tr>\n",
       "    <tr>\n",
       "      <th>Date</th>\n",
       "      <th></th>\n",
       "      <th></th>\n",
       "      <th></th>\n",
       "    </tr>\n",
       "  </thead>\n",
       "  <tbody>\n",
       "    <tr>\n",
       "      <th>2023-03-24</th>\n",
       "      <td>1983.8</td>\n",
       "      <td>0.207287</td>\n",
       "      <td>280.57</td>\n",
       "    </tr>\n",
       "    <tr>\n",
       "      <th>2023-03-23</th>\n",
       "      <td>1995.9</td>\n",
       "      <td>0.207287</td>\n",
       "      <td>277.66</td>\n",
       "    </tr>\n",
       "    <tr>\n",
       "      <th>2023-03-22</th>\n",
       "      <td>1949.6</td>\n",
       "      <td>0.207287</td>\n",
       "      <td>272.29</td>\n",
       "    </tr>\n",
       "    <tr>\n",
       "      <th>2023-03-21</th>\n",
       "      <td>1941.1</td>\n",
       "      <td>0.207287</td>\n",
       "      <td>273.78</td>\n",
       "    </tr>\n",
       "    <tr>\n",
       "      <th>2023-03-20</th>\n",
       "      <td>1999.7</td>\n",
       "      <td>0.207287</td>\n",
       "      <td>272.23</td>\n",
       "    </tr>\n",
       "  </tbody>\n",
       "</table>\n",
       "</div>"
      ],
      "text/plain": [
       "            Gold Price  Inflation Rate  MSFT Stock Price\n",
       "Date                                                    \n",
       "2023-03-24      1983.8        0.207287            280.57\n",
       "2023-03-23      1995.9        0.207287            277.66\n",
       "2023-03-22      1949.6        0.207287            272.29\n",
       "2023-03-21      1941.1        0.207287            273.78\n",
       "2023-03-20      1999.7        0.207287            272.23"
      ]
     },
     "execution_count": 21,
     "metadata": {},
     "output_type": "execute_result"
    }
   ],
   "source": [
    "Cleansed_df.head()"
   ]
  },
  {
   "cell_type": "code",
   "execution_count": 22,
   "metadata": {},
   "outputs": [
    {
     "name": "stdout",
     "output_type": "stream",
     "text": [
      "<class 'pandas.core.frame.DataFrame'>\n",
      "DatetimeIndex: 2543 entries, 2023-03-24 to 2013-03-26\n",
      "Data columns (total 3 columns):\n",
      " #   Column            Non-Null Count  Dtype  \n",
      "---  ------            --------------  -----  \n",
      " 0   Gold Price        2543 non-null   float64\n",
      " 1   Inflation Rate    2543 non-null   float64\n",
      " 2   MSFT Stock Price  2543 non-null   float64\n",
      "dtypes: float64(3)\n",
      "memory usage: 79.5 KB\n"
     ]
    }
   ],
   "source": [
    "Cleansed_df.info()"
   ]
  },
  {
   "cell_type": "code",
   "execution_count": 23,
   "metadata": {},
   "outputs": [
    {
     "data": {
      "text/plain": [
       "(2543, 3)"
      ]
     },
     "execution_count": 23,
     "metadata": {},
     "output_type": "execute_result"
    }
   ],
   "source": [
    "Cleansed_df.shape"
   ]
  },
  {
   "cell_type": "markdown",
   "metadata": {},
   "source": [
    "We have 3 feature columns and one target column. The target column is 'Adj Close' and there are 2543 rows to the data frame.¶\n",
    "\n",
    "EDA for the data set"
   ]
  },
  {
   "cell_type": "code",
   "execution_count": 24,
   "metadata": {},
   "outputs": [
    {
     "data": {
      "image/png": "[encoded data removed]",
      "text/plain": [
       "<Figure size 432x288 with 2 Axes>"
      ]
     },
     "metadata": {
      "needs_background": "light"
     },
     "output_type": "display_data"
    }
   ],
   "source": [
    "_ = sns.heatmap(Cleansed_df.corr())"
   ]
  },
  {
   "cell_type": "code",
   "execution_count": 25,
   "metadata": {},
   "outputs": [],
   "source": [
    "# features creation by making it into a function\n",
    "\n",
    "def create_features(Cleansed_df):\n",
    "    \"\"\"\n",
    "    Create time series features based on time series index\n",
    "    \"\"\"\n",
    "    Cleansed_df = Cleansed_df.copy()\n",
    "    Cleansed_df['day of week'] = Cleansed_df.index.dayofweek\n",
    "    Cleansed_df['quarter'] = Cleansed_df.index.quarter\n",
    "    Cleansed_df['month'] = Cleansed_df.index.month\n",
    "    Cleansed_df['year'] = Cleansed_df.index.year\n",
    "    return Cleansed_df\n",
    "\n",
    "Cleansed_df = create_features(Cleansed_df)"
   ]
  },
  {
   "cell_type": "code",
   "execution_count": 26,
   "metadata": {},
   "outputs": [
    {
     "data": {
      "text/plain": [
       "<AxesSubplot:xlabel='month', ylabel='MSFT Stock Price'>"
      ]
     },
     "execution_count": 26,
     "metadata": {},
     "output_type": "execute_result"
    },
    {
     "data": {
      "image/png": "[encoded data removed]",
      "text/plain": [
       "<Figure size 720x360 with 1 Axes>"
      ]
     },
     "metadata": {
      "needs_background": "light"
     },
     "output_type": "display_data"
    }
   ],
   "source": [
    "# We could vitualize our features\n",
    "\n",
    "fig, ax = plt.subplots(figsize=(10, 5))\n",
    "sns.boxplot(data=Cleansed_df, x='month', y='MSFT Stock Price')"
   ]
  },
  {
   "cell_type": "code",
   "execution_count": 27,
   "metadata": {},
   "outputs": [
    {
     "data": {
      "text/plain": [
       "<AxesSubplot:xlabel='quarter', ylabel='MSFT Stock Price'>"
      ]
     },
     "execution_count": 27,
     "metadata": {},
     "output_type": "execute_result"
    },
    {
     "data": {
      "image/png": "[encoded data removed]",
      "text/plain": [
       "<Figure size 720x360 with 1 Axes>"
      ]
     },
     "metadata": {
      "needs_background": "light"
     },
     "output_type": "display_data"
    }
   ],
   "source": [
    "fig, ax = plt.subplots(figsize=(10, 5))\n",
    "sns.boxplot(data=Cleansed_df, x='quarter', y='MSFT Stock Price')"
   ]
  },
  {
   "cell_type": "code",
   "execution_count": 28,
   "metadata": {},
   "outputs": [
    {
     "data": {
      "text/plain": [
       "<AxesSubplot:xlabel='year', ylabel='MSFT Stock Price'>"
      ]
     },
     "execution_count": 28,
     "metadata": {},
     "output_type": "execute_result"
    },
    {
     "data": {
      "image/png": "[encoded data removed]",
      "text/plain": [
       "<Figure size 720x360 with 1 Axes>"
      ]
     },
     "metadata": {
      "needs_background": "light"
     },
     "output_type": "display_data"
    }
   ],
   "source": [
    "fig, ax = plt.subplots(figsize=(10, 5))\n",
    "sns.boxplot(data=Cleansed_df, x='year', y='MSFT Stock Price')"
   ]
  },
  {
   "cell_type": "code",
   "execution_count": 29,
   "metadata": {},
   "outputs": [
    {
     "data": {
      "text/plain": [
       "<matplotlib.collections.PathCollection at 0x211971aa6a0>"
      ]
     },
     "execution_count": 29,
     "metadata": {},
     "output_type": "execute_result"
    },
    {
     "data": {
      "image/png": "[encoded data removed]",
      "text/plain": [
       "<Figure size 432x288 with 1 Axes>"
      ]
     },
     "metadata": {
      "needs_background": "light"
     },
     "output_type": "display_data"
    }
   ],
   "source": [
    "plt.scatter(Cleansed_df['Inflation Rate'],Cleansed_df['MSFT Stock Price'])"
   ]
  },
  {
   "cell_type": "code",
   "execution_count": 30,
   "metadata": {},
   "outputs": [],
   "source": [
    "# Select relevant columns for analysis\n",
    "#Cleansed_df = Cleansed_df[['MSFT Stock Price', 'Inflation Rate', 'Gold Price']]"
   ]
  },
  {
   "cell_type": "code",
   "execution_count": 31,
   "metadata": {},
   "outputs": [],
   "source": [
    "# Scale the data\n",
    "scaler = MinMaxScaler()\n",
    "df_scaled = scaler.fit_transform(Cleansed_df)\n",
    "\n",
    "train_size = int(len(df_scaled) * 0.8)\n",
    "test_size = len(df_scaled) - train_size\n",
    "train_data, test_data = df_scaled[:train_size], df_scaled[train_size:]"
   ]
  },
  {
   "cell_type": "code",
   "execution_count": 32,
   "metadata": {},
   "outputs": [
    {
     "data": {
      "text/plain": [
       "2034"
      ]
     },
     "execution_count": 32,
     "metadata": {},
     "output_type": "execute_result"
    }
   ],
   "source": [
    "train_size"
   ]
  },
  {
   "cell_type": "code",
   "execution_count": 33,
   "metadata": {},
   "outputs": [
    {
     "data": {
      "text/plain": [
       "509"
      ]
     },
     "execution_count": 33,
     "metadata": {},
     "output_type": "execute_result"
    }
   ],
   "source": [
    "test_size"
   ]
  },
  {
   "cell_type": "code",
   "execution_count": 34,
   "metadata": {},
   "outputs": [],
   "source": [
    "# Scale the data\n",
    "#scaler = MinMaxScaler()\n",
    "#df_scaled = scaler.fit_transform(Cleansed_df)\n",
    "\n",
    "#train_size = int(len(df) * 0.8)\n",
    "#train_data, test_data = df_scaled[:train_size, :], df_scaled[train_size:, :]"
   ]
  },
  {
   "cell_type": "code",
   "execution_count": 35,
   "metadata": {},
   "outputs": [],
   "source": [
    "# Step 3: Reshape the data\n",
    "def create_dataset(dataset, time_steps=1):\n",
    "    X, y = [], []\n",
    "    for i in range(len(dataset) - time_steps):\n",
    "        X.append(dataset[i:(i+time_steps), :])\n",
    "        y.append(dataset[i+time_steps, 0])\n",
    "    return np.array(X), np.array(y)\n",
    "\n",
    "time_steps = 5\n",
    "X_train, y_train = create_dataset(train_data, time_steps)\n",
    "X_test, y_test = create_dataset(test_data, time_steps)"
   ]
  },
  {
   "cell_type": "code",
   "execution_count": 36,
   "metadata": {},
   "outputs": [
    {
     "name": "stdout",
     "output_type": "stream",
     "text": [
      "Epoch 1/100\n",
      "127/127 [==============================] - 2s 5ms/step - loss: 0.0157 - val_loss: 0.0114\n",
      "Epoch 2/100\n",
      "127/127 [==============================] - 0s 3ms/step - loss: 0.0012 - val_loss: 0.0043\n",
      "Epoch 3/100\n",
      "127/127 [==============================] - 0s 2ms/step - loss: 6.4983e-04 - val_loss: 0.0023\n",
      "Epoch 4/100\n",
      "127/127 [==============================] - 0s 2ms/step - loss: 6.0024e-04 - val_loss: 0.0016\n",
      "Epoch 5/100\n",
      "127/127 [==============================] - 0s 2ms/step - loss: 5.5862e-04 - val_loss: 0.0016\n",
      "Epoch 6/100\n",
      "127/127 [==============================] - 0s 2ms/step - loss: 5.5563e-04 - val_loss: 8.7565e-04\n",
      "Epoch 7/100\n",
      "127/127 [==============================] - 0s 3ms/step - loss: 5.2481e-04 - val_loss: 0.0011\n",
      "Epoch 8/100\n",
      "127/127 [==============================] - 0s 2ms/step - loss: 5.6613e-04 - val_loss: 8.3309e-04\n",
      "Epoch 9/100\n",
      "127/127 [==============================] - 0s 2ms/step - loss: 5.1393e-04 - val_loss: 7.9485e-04\n",
      "Epoch 10/100\n",
      "127/127 [==============================] - 0s 3ms/step - loss: 5.1191e-04 - val_loss: 0.0010\n",
      "Epoch 11/100\n",
      "127/127 [==============================] - 0s 2ms/step - loss: 4.9354e-04 - val_loss: 8.0059e-04\n",
      "Epoch 12/100\n",
      "127/127 [==============================] - 0s 2ms/step - loss: 5.2241e-04 - val_loss: 6.2902e-04\n",
      "Epoch 13/100\n",
      "127/127 [==============================] - 0s 2ms/step - loss: 5.0283e-04 - val_loss: 6.4710e-04\n",
      "Epoch 14/100\n",
      "127/127 [==============================] - 0s 2ms/step - loss: 4.7058e-04 - val_loss: 9.1552e-04\n",
      "Epoch 15/100\n",
      "127/127 [==============================] - 0s 2ms/step - loss: 4.4360e-04 - val_loss: 6.1551e-04\n",
      "Epoch 16/100\n",
      "127/127 [==============================] - 0s 2ms/step - loss: 4.6352e-04 - val_loss: 6.2070e-04\n",
      "Epoch 17/100\n",
      "127/127 [==============================] - 0s 2ms/step - loss: 5.1068e-04 - val_loss: 9.4573e-04\n",
      "Epoch 18/100\n",
      "127/127 [==============================] - 0s 2ms/step - loss: 4.7769e-04 - val_loss: 5.6113e-04\n",
      "Epoch 19/100\n",
      "127/127 [==============================] - 0s 2ms/step - loss: 4.4105e-04 - val_loss: 5.9941e-04\n",
      "Epoch 20/100\n",
      "127/127 [==============================] - 0s 2ms/step - loss: 4.8882e-04 - val_loss: 5.1695e-04\n",
      "Epoch 21/100\n",
      "127/127 [==============================] - 0s 2ms/step - loss: 4.0638e-04 - val_loss: 9.3183e-04\n",
      "Epoch 22/100\n",
      "127/127 [==============================] - 0s 2ms/step - loss: 4.1501e-04 - val_loss: 5.6287e-04\n",
      "Epoch 23/100\n",
      "127/127 [==============================] - 0s 2ms/step - loss: 4.2446e-04 - val_loss: 5.4601e-04\n",
      "Epoch 24/100\n",
      "127/127 [==============================] - 0s 2ms/step - loss: 4.2918e-04 - val_loss: 5.0532e-04\n",
      "Epoch 25/100\n",
      "127/127 [==============================] - 0s 2ms/step - loss: 3.9457e-04 - val_loss: 6.0339e-04\n",
      "Epoch 26/100\n",
      "127/127 [==============================] - 0s 3ms/step - loss: 3.7799e-04 - val_loss: 5.8504e-04\n",
      "Epoch 27/100\n",
      "127/127 [==============================] - 0s 2ms/step - loss: 3.7116e-04 - val_loss: 4.3908e-04\n",
      "Epoch 28/100\n",
      "127/127 [==============================] - 0s 2ms/step - loss: 3.4795e-04 - val_loss: 4.9909e-04\n",
      "Epoch 29/100\n",
      "127/127 [==============================] - 0s 2ms/step - loss: 4.0317e-04 - val_loss: 5.1333e-04\n",
      "Epoch 30/100\n",
      "127/127 [==============================] - 0s 3ms/step - loss: 4.0092e-04 - val_loss: 5.9995e-04\n",
      "Epoch 31/100\n",
      "127/127 [==============================] - 0s 2ms/step - loss: 3.6992e-04 - val_loss: 4.5946e-04\n",
      "Epoch 32/100\n",
      "127/127 [==============================] - 0s 2ms/step - loss: 3.5911e-04 - val_loss: 3.9725e-04\n",
      "Epoch 33/100\n",
      "127/127 [==============================] - 0s 3ms/step - loss: 3.6314e-04 - val_loss: 4.3550e-04\n",
      "Epoch 34/100\n",
      "127/127 [==============================] - 0s 3ms/step - loss: 3.4051e-04 - val_loss: 4.1158e-04\n",
      "Epoch 35/100\n",
      "127/127 [==============================] - 0s 2ms/step - loss: 3.1393e-04 - val_loss: 3.7415e-04\n",
      "Epoch 36/100\n",
      "127/127 [==============================] - 0s 2ms/step - loss: 3.4062e-04 - val_loss: 3.9909e-04\n",
      "Epoch 37/100\n",
      "127/127 [==============================] - 0s 2ms/step - loss: 3.2261e-04 - val_loss: 4.9293e-04\n",
      "Epoch 38/100\n",
      "127/127 [==============================] - 0s 2ms/step - loss: 3.1555e-04 - val_loss: 4.1708e-04\n",
      "Epoch 39/100\n",
      "127/127 [==============================] - 0s 2ms/step - loss: 3.2932e-04 - val_loss: 4.2214e-04\n",
      "Epoch 40/100\n",
      "127/127 [==============================] - 0s 2ms/step - loss: 2.9790e-04 - val_loss: 3.6935e-04\n",
      "Epoch 41/100\n",
      "127/127 [==============================] - 0s 2ms/step - loss: 3.3165e-04 - val_loss: 4.0256e-04\n",
      "Epoch 42/100\n",
      "127/127 [==============================] - 0s 2ms/step - loss: 2.8039e-04 - val_loss: 3.5720e-04\n",
      "Epoch 43/100\n",
      "127/127 [==============================] - 0s 2ms/step - loss: 2.8309e-04 - val_loss: 4.4623e-04\n",
      "Epoch 44/100\n",
      "127/127 [==============================] - 0s 2ms/step - loss: 2.9630e-04 - val_loss: 3.6837e-04\n",
      "Epoch 45/100\n",
      "127/127 [==============================] - 0s 2ms/step - loss: 2.9719e-04 - val_loss: 3.3391e-04\n",
      "Epoch 46/100\n",
      "127/127 [==============================] - 0s 2ms/step - loss: 2.8871e-04 - val_loss: 3.7390e-04\n",
      "Epoch 47/100\n",
      "127/127 [==============================] - 0s 2ms/step - loss: 2.6645e-04 - val_loss: 3.5700e-04\n",
      "Epoch 48/100\n",
      "127/127 [==============================] - 0s 2ms/step - loss: 3.0857e-04 - val_loss: 3.0870e-04\n",
      "Epoch 49/100\n",
      "127/127 [==============================] - 0s 2ms/step - loss: 2.7591e-04 - val_loss: 3.3788e-04\n",
      "Epoch 50/100\n",
      "127/127 [==============================] - 0s 2ms/step - loss: 2.5702e-04 - val_loss: 3.0060e-04\n",
      "Epoch 51/100\n",
      "127/127 [==============================] - 0s 3ms/step - loss: 3.0446e-04 - val_loss: 3.1719e-04\n",
      "Epoch 52/100\n",
      "127/127 [==============================] - 0s 3ms/step - loss: 2.9748e-04 - val_loss: 3.2753e-04\n",
      "Epoch 53/100\n",
      "127/127 [==============================] - 0s 2ms/step - loss: 2.4795e-04 - val_loss: 3.1511e-04\n",
      "Epoch 54/100\n",
      "127/127 [==============================] - 0s 2ms/step - loss: 2.5536e-04 - val_loss: 2.8918e-04\n",
      "Epoch 55/100\n",
      "127/127 [==============================] - 0s 2ms/step - loss: 2.4655e-04 - val_loss: 2.9129e-04\n",
      "Epoch 56/100\n",
      "127/127 [==============================] - 0s 2ms/step - loss: 2.4954e-04 - val_loss: 3.0465e-04\n",
      "Epoch 57/100\n",
      "127/127 [==============================] - 0s 2ms/step - loss: 2.3841e-04 - val_loss: 3.0478e-04\n",
      "Epoch 58/100\n",
      "127/127 [==============================] - 0s 2ms/step - loss: 2.4587e-04 - val_loss: 2.8642e-04\n",
      "Epoch 59/100\n",
      "127/127 [==============================] - 0s 2ms/step - loss: 2.5489e-04 - val_loss: 3.7735e-04\n",
      "Epoch 60/100\n",
      "127/127 [==============================] - 0s 2ms/step - loss: 2.4590e-04 - val_loss: 3.0467e-04\n",
      "Epoch 61/100\n",
      "127/127 [==============================] - 0s 2ms/step - loss: 2.5563e-04 - val_loss: 2.9794e-04\n",
      "Epoch 62/100\n",
      "127/127 [==============================] - 0s 2ms/step - loss: 2.6150e-04 - val_loss: 3.9568e-04\n",
      "Epoch 63/100\n",
      "127/127 [==============================] - 0s 2ms/step - loss: 2.5316e-04 - val_loss: 2.9923e-04\n",
      "Epoch 64/100\n",
      "127/127 [==============================] - 0s 2ms/step - loss: 2.4690e-04 - val_loss: 3.2947e-04\n",
      "Epoch 65/100\n",
      "127/127 [==============================] - 0s 2ms/step - loss: 2.5448e-04 - val_loss: 2.9767e-04\n",
      "Epoch 66/100\n",
      "127/127 [==============================] - 0s 2ms/step - loss: 2.4394e-04 - val_loss: 2.7980e-04\n",
      "Epoch 67/100\n",
      "127/127 [==============================] - 0s 3ms/step - loss: 2.8043e-04 - val_loss: 2.7262e-04\n",
      "Epoch 68/100\n",
      "127/127 [==============================] - 0s 2ms/step - loss: 2.3595e-04 - val_loss: 2.8133e-04\n",
      "Epoch 69/100\n",
      "127/127 [==============================] - 0s 2ms/step - loss: 2.4784e-04 - val_loss: 2.9738e-04\n",
      "Epoch 70/100\n",
      "127/127 [==============================] - 0s 2ms/step - loss: 2.4348e-04 - val_loss: 3.3281e-04\n",
      "Epoch 71/100\n",
      "127/127 [==============================] - 0s 2ms/step - loss: 2.7083e-04 - val_loss: 2.7451e-04\n",
      "Epoch 72/100\n",
      "127/127 [==============================] - 0s 2ms/step - loss: 2.3144e-04 - val_loss: 2.8499e-04\n",
      "Epoch 73/100\n",
      "127/127 [==============================] - 0s 3ms/step - loss: 2.4808e-04 - val_loss: 2.9205e-04\n",
      "Epoch 74/100\n",
      "127/127 [==============================] - 0s 2ms/step - loss: 2.6222e-04 - val_loss: 3.7600e-04\n",
      "Epoch 75/100\n",
      "127/127 [==============================] - 0s 2ms/step - loss: 2.6097e-04 - val_loss: 3.1137e-04\n",
      "Epoch 76/100\n",
      "127/127 [==============================] - 0s 3ms/step - loss: 2.5166e-04 - val_loss: 2.9816e-04\n",
      "Epoch 77/100\n",
      "127/127 [==============================] - 0s 2ms/step - loss: 2.5733e-04 - val_loss: 2.7531e-04\n",
      "Epoch 78/100\n",
      "127/127 [==============================] - 0s 2ms/step - loss: 2.6149e-04 - val_loss: 2.8485e-04\n",
      "Epoch 79/100\n",
      "127/127 [==============================] - 0s 2ms/step - loss: 2.4801e-04 - val_loss: 3.6323e-04\n",
      "Epoch 80/100\n",
      "127/127 [==============================] - 0s 2ms/step - loss: 2.3322e-04 - val_loss: 2.5787e-04\n",
      "Epoch 81/100\n",
      "127/127 [==============================] - 0s 2ms/step - loss: 2.4473e-04 - val_loss: 2.9839e-04\n",
      "Epoch 82/100\n",
      "127/127 [==============================] - 0s 2ms/step - loss: 2.5728e-04 - val_loss: 3.1554e-04\n",
      "Epoch 83/100\n",
      "127/127 [==============================] - 0s 2ms/step - loss: 2.4848e-04 - val_loss: 2.6328e-04\n",
      "Epoch 84/100\n",
      "127/127 [==============================] - 0s 2ms/step - loss: 2.3969e-04 - val_loss: 2.7821e-04\n",
      "Epoch 85/100\n",
      "127/127 [==============================] - 0s 2ms/step - loss: 2.3213e-04 - val_loss: 2.7805e-04\n",
      "Epoch 86/100\n",
      "127/127 [==============================] - 0s 2ms/step - loss: 2.3757e-04 - val_loss: 2.7418e-04\n",
      "Epoch 87/100\n",
      "127/127 [==============================] - 0s 2ms/step - loss: 2.5508e-04 - val_loss: 2.9488e-04\n",
      "Epoch 88/100\n",
      "127/127 [==============================] - 0s 2ms/step - loss: 2.4063e-04 - val_loss: 3.3768e-04\n",
      "Epoch 89/100\n",
      "127/127 [==============================] - 0s 2ms/step - loss: 2.4593e-04 - val_loss: 2.9093e-04\n",
      "Epoch 90/100\n",
      "127/127 [==============================] - 0s 2ms/step - loss: 2.5027e-04 - val_loss: 3.2141e-04\n",
      "Epoch 91/100\n",
      "127/127 [==============================] - 0s 2ms/step - loss: 2.3880e-04 - val_loss: 3.4116e-04\n",
      "Epoch 92/100\n",
      "127/127 [==============================] - 0s 2ms/step - loss: 2.5626e-04 - val_loss: 3.0025e-04\n",
      "Epoch 93/100\n",
      "127/127 [==============================] - 0s 2ms/step - loss: 2.2991e-04 - val_loss: 2.9307e-04\n",
      "Epoch 94/100\n",
      "127/127 [==============================] - 0s 2ms/step - loss: 2.3775e-04 - val_loss: 3.4222e-04\n",
      "Epoch 95/100\n",
      "127/127 [==============================] - 0s 2ms/step - loss: 2.4147e-04 - val_loss: 3.4617e-04\n",
      "Epoch 96/100\n",
      "127/127 [==============================] - 0s 2ms/step - loss: 2.4626e-04 - val_loss: 2.6381e-04\n",
      "Epoch 97/100\n",
      "127/127 [==============================] - 0s 2ms/step - loss: 2.5718e-04 - val_loss: 3.2459e-04\n",
      "Epoch 98/100\n",
      "127/127 [==============================] - 0s 2ms/step - loss: 2.3320e-04 - val_loss: 2.7190e-04\n",
      "Epoch 99/100\n",
      "127/127 [==============================] - 0s 2ms/step - loss: 2.2951e-04 - val_loss: 3.0576e-04\n",
      "Epoch 100/100\n",
      "127/127 [==============================] - 0s 3ms/step - loss: 2.6313e-04 - val_loss: 2.8616e-04\n"
     ]
    }
   ],
   "source": [
    "# Step 4: Define and train the LSTM model\n",
    "model = Sequential()\n",
    "model.add(LSTM(50, input_shape=(X_train.shape[1], X_train.shape[2])))\n",
    "model.add(Dense(1))\n",
    "model.compile(loss='mse', optimizer='adam')\n",
    "\n",
    "history = model.fit(X_train, y_train, epochs=100, batch_size=16, validation_data=(X_test, y_test), verbose=1)"
   ]
  },
  {
   "cell_type": "code",
   "execution_count": 37,
   "metadata": {},
   "outputs": [
    {
     "name": "stdout",
     "output_type": "stream",
     "text": [
      "Train loss: 0.00023754344147164375\n",
      "Test loss: 0.000286159134702757\n"
     ]
    }
   ],
   "source": [
    "# Step 5: Evaluate the model\n",
    "train_loss = model.evaluate(X_train, y_train, verbose=0)\n",
    "test_loss = model.evaluate(X_test, y_test, verbose=0)\n",
    "print('Train loss:', train_loss)\n",
    "print('Test loss:', test_loss)"
   ]
  },
  {
   "cell_type": "code",
   "execution_count": 38,
   "metadata": {},
   "outputs": [
    {
     "name": "stdout",
     "output_type": "stream",
     "text": [
      "64/64 [==============================] - 0s 1ms/step\n",
      "16/16 [==============================] - 0s 1ms/step\n"
     ]
    },
    {
     "data": {
      "image/png": "[encoded data removed]",
      "text/plain": [
       "<Figure size 432x288 with 1 Axes>"
      ]
     },
     "metadata": {
      "needs_background": "light"
     },
     "output_type": "display_data"
    }
   ],
   "source": [
    "# Step 6: Make predictions and visualize the results\n",
    "y_train_pred = model.predict(X_train)\n",
    "y_test_pred = model.predict(X_test)\n",
    "\n",
    "y_train_pred_inverse = scaler.inverse_transform(np.concatenate((y_train_pred, X_train[:, -1, 1:]), axis=1))[:, 0]\n",
    "y_test_pred_inverse = scaler.inverse_transform(np.concatenate((y_test_pred, X_test[:, -1, 1:]), axis=1))[:, 0]\n",
    "\n",
    "plt.plot(Cleansed_df.index[:train_size], Cleansed_df.iloc[:train_size, 0], label='Actual (train)')\n",
    "plt.plot(Cleansed_df.index[train_size+time_steps:], Cleansed_df.iloc[train_size+time_steps:, 0], label='Actual (test)')\n",
    "plt.plot(Cleansed_df.index[time_steps:train_size], y_train_pred_inverse, label='Predicted (train)')\n",
    "plt.plot(Cleansed_df.index[train_size+time_steps:], y_test_pred_inverse, label='Predicted (test)')\n",
    "plt.legend()\n",
    "plt.show()"
   ]
  },
  {
   "cell_type": "code",
   "execution_count": 40,
   "metadata": {},
   "outputs": [
    {
     "data": {
      "image/png": "[encoded data removed]",
      "text/plain": [
       "<Figure size 1080x576 with 1 Axes>"
      ]
     },
     "metadata": {
      "needs_background": "light"
     },
     "output_type": "display_data"
    }
   ],
   "source": [
    "fig, ax = plt.subplots(figsize=(15, 8))\n",
    "\n",
    "ax.plot(Cleansed_df.index[:train_size], Cleansed_df.iloc[:train_size, 0], label='Actual (train)')\n",
    "ax.plot(Cleansed_df.index[train_size+time_steps:], Cleansed_df.iloc[train_size+time_steps:, 0], label='Actual (test)')\n",
    "ax.plot(Cleansed_df.index[time_steps:train_size], y_train_pred_inverse, label='Predicted (train)')\n",
    "ax.plot(Cleansed_df.index[train_size+time_steps:], y_test_pred_inverse, label='Predicted (test)')\n",
    "ax.legend()\n",
    "plt.show()\n"
   ]
  },
  {
   "cell_type": "code",
   "execution_count": null,
   "metadata": {},
   "outputs": [],
   "source": []
  }
 ],
 "metadata": {
  "kernelspec": {
   "display_name": "Python 3",
   "language": "python",
   "name": "python3"
  },
  "language_info": {
   "codemirror_mode": {
    "name": "ipython",
    "version": 3
   },
   "file_extension": ".py",
   "mimetype": "text/x-python",
   "name": "python",
   "nbconvert_exporter": "python",
   "pygments_lexer": "ipython3",
   "version": "3.8.5"
  }
 },
 "nbformat": 4,
 "nbformat_minor": 4
}
