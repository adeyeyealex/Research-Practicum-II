{
 "cells": [
  {
   "cell_type": "code",
   "execution_count": 1,
   "metadata": {},
   "outputs": [
    {
     "name": "stderr",
     "output_type": "stream",
     "text": [
      "C:\\Users\\adeye\\anaconda3\\lib\\site-packages\\statsmodels\\tsa\\base\\tsa_model.py:7: FutureWarning: pandas.Int64Index is deprecated and will be removed from pandas in a future version. Use pandas.Index with the appropriate dtype instead.\n",
      "  from pandas import (to_datetime, Int64Index, DatetimeIndex, Period,\n",
      "C:\\Users\\adeye\\anaconda3\\lib\\site-packages\\statsmodels\\tsa\\base\\tsa_model.py:7: FutureWarning: pandas.Float64Index is deprecated and will be removed from pandas in a future version. Use pandas.Index with the appropriate dtype instead.\n",
      "  from pandas import (to_datetime, Int64Index, DatetimeIndex, Period,\n"
     ]
    }
   ],
   "source": [
    "# Step 1: Import libraries and load data\n",
    "import pandas as pd\n",
    "import numpy as np\n",
    "import datetime\n",
    "from sklearn.preprocessing import MinMaxScaler\n",
    "import tensorflow as tf\n",
    "from keras.models import Sequential\n",
    "from keras.layers import Dense, LSTM\n",
    "from keras.optimizers import Adam\n",
    "from tensorflow.keras import models\n",
    "from tensorflow.keras import layers\n",
    "from tensorflow.keras import backend\n",
    "from keras.layers import Dropout\n",
    "import matplotlib.pyplot as plt\n",
    "from pandas.plotting import lag_plot\n",
    "%matplotlib inline\n",
    "import seaborn as sns\n",
    "\n",
    "from sklearn.model_selection import train_test_split\n",
    "from statsmodels.tsa.arima_model import ARIMA\n",
    "from sklearn.metrics import mean_squared_error\n",
    "\n",
    "import warnings\n",
    "warnings.filterwarnings('ignore')"
   ]
  },
  {
   "cell_type": "code",
   "execution_count": 2,
   "metadata": {},
   "outputs": [],
   "source": [
    "# Download stock data for Microsoft (ticker symbol: MSFT) from Yahoo Finance\n",
    "msft = pd.read_csv(\"C:/Users/adeye/Downloads/MSFT.csv\")"
   ]
  },
  {
   "cell_type": "code",
   "execution_count": 3,
   "metadata": {},
   "outputs": [],
   "source": [
    "# Download gold data for gold (ticker symbol: GC=F) from Yahoo Finance\n",
    "gold = pd.read_csv(\"C:/Users/adeye/Downloads/Gold.csv\")"
   ]
  },
  {
   "cell_type": "code",
   "execution_count": 4,
   "metadata": {},
   "outputs": [],
   "source": [
    "inflation = pd.read_csv(\"C:/Users/adeye/OneDrive/Desktop/BLS Inflation data time series.csv\")"
   ]
  },
  {
   "cell_type": "code",
   "execution_count": 5,
   "metadata": {},
   "outputs": [],
   "source": [
    "unemployment = pd.read_csv(\"C:/Users/adeye/OneDrive//Desktop/BLS Unemployment rate time series.csv\")"
   ]
  },
  {
   "cell_type": "code",
   "execution_count": 6,
   "metadata": {},
   "outputs": [],
   "source": [
    "merged_df = msft.copy()\n",
    "merged_df = pd.merge(merged_df, inflation[['Date', 'Inflation']], on='Date', how='left')\n",
    "merged_df = pd.merge(merged_df, gold[['Date', 'Close/Last']], on='Date', how='left')\n",
    "merged_df = pd.merge(merged_df, unemployment[['Date', 'Unemployment']], on='Date', how='left')\n",
    "df = merged_df"
   ]
  },
  {
   "cell_type": "code",
   "execution_count": 7,
   "metadata": {},
   "outputs": [
    {
     "data": {
      "text/html": [
       "<div>\n",
       "<style scoped>\n",
       "    .dataframe tbody tr th:only-of-type {\n",
       "        vertical-align: middle;\n",
       "    }\n",
       "\n",
       "    .dataframe tbody tr th {\n",
       "        vertical-align: top;\n",
       "    }\n",
       "\n",
       "    .dataframe thead th {\n",
       "        text-align: right;\n",
       "    }\n",
       "</style>\n",
       "<table border=\"1\" class=\"dataframe\">\n",
       "  <thead>\n",
       "    <tr style=\"text-align: right;\">\n",
       "      <th></th>\n",
       "      <th>Date</th>\n",
       "      <th>Open</th>\n",
       "      <th>High</th>\n",
       "      <th>Low</th>\n",
       "      <th>Close</th>\n",
       "      <th>Adj Close</th>\n",
       "      <th>Volume</th>\n",
       "      <th>Inflation</th>\n",
       "      <th>Close/Last</th>\n",
       "      <th>Unemployment</th>\n",
       "    </tr>\n",
       "  </thead>\n",
       "  <tbody>\n",
       "    <tr>\n",
       "      <th>0</th>\n",
       "      <td>1/2/2013</td>\n",
       "      <td>27.250000</td>\n",
       "      <td>27.730000</td>\n",
       "      <td>27.150000</td>\n",
       "      <td>27.620001</td>\n",
       "      <td>22.72</td>\n",
       "      <td>52899300</td>\n",
       "      <td>0.2</td>\n",
       "      <td>NaN</td>\n",
       "      <td>8.0</td>\n",
       "    </tr>\n",
       "    <tr>\n",
       "      <th>1</th>\n",
       "      <td>1/3/2013</td>\n",
       "      <td>27.629999</td>\n",
       "      <td>27.650000</td>\n",
       "      <td>27.160000</td>\n",
       "      <td>27.250000</td>\n",
       "      <td>22.41</td>\n",
       "      <td>48294400</td>\n",
       "      <td>0.2</td>\n",
       "      <td>NaN</td>\n",
       "      <td>8.0</td>\n",
       "    </tr>\n",
       "    <tr>\n",
       "      <th>2</th>\n",
       "      <td>1/4/2013</td>\n",
       "      <td>27.270000</td>\n",
       "      <td>27.340000</td>\n",
       "      <td>26.730000</td>\n",
       "      <td>26.740000</td>\n",
       "      <td>21.99</td>\n",
       "      <td>52521100</td>\n",
       "      <td>0.2</td>\n",
       "      <td>NaN</td>\n",
       "      <td>8.0</td>\n",
       "    </tr>\n",
       "    <tr>\n",
       "      <th>3</th>\n",
       "      <td>1/7/2013</td>\n",
       "      <td>26.770000</td>\n",
       "      <td>26.879999</td>\n",
       "      <td>26.639999</td>\n",
       "      <td>26.690001</td>\n",
       "      <td>21.95</td>\n",
       "      <td>37110400</td>\n",
       "      <td>0.2</td>\n",
       "      <td>NaN</td>\n",
       "      <td>8.0</td>\n",
       "    </tr>\n",
       "    <tr>\n",
       "      <th>4</th>\n",
       "      <td>1/8/2013</td>\n",
       "      <td>26.750000</td>\n",
       "      <td>26.790001</td>\n",
       "      <td>26.459999</td>\n",
       "      <td>26.549999</td>\n",
       "      <td>21.84</td>\n",
       "      <td>44703100</td>\n",
       "      <td>0.2</td>\n",
       "      <td>NaN</td>\n",
       "      <td>8.0</td>\n",
       "    </tr>\n",
       "    <tr>\n",
       "      <th>...</th>\n",
       "      <td>...</td>\n",
       "      <td>...</td>\n",
       "      <td>...</td>\n",
       "      <td>...</td>\n",
       "      <td>...</td>\n",
       "      <td>...</td>\n",
       "      <td>...</td>\n",
       "      <td>...</td>\n",
       "      <td>...</td>\n",
       "      <td>...</td>\n",
       "    </tr>\n",
       "    <tr>\n",
       "      <th>2570</th>\n",
       "      <td>3/20/2023</td>\n",
       "      <td>276.980011</td>\n",
       "      <td>277.480011</td>\n",
       "      <td>269.850006</td>\n",
       "      <td>272.230011</td>\n",
       "      <td>272.23</td>\n",
       "      <td>43466600</td>\n",
       "      <td>NaN</td>\n",
       "      <td>1999.7</td>\n",
       "      <td>NaN</td>\n",
       "    </tr>\n",
       "    <tr>\n",
       "      <th>2571</th>\n",
       "      <td>3/21/2023</td>\n",
       "      <td>274.880005</td>\n",
       "      <td>275.000000</td>\n",
       "      <td>269.519989</td>\n",
       "      <td>273.779999</td>\n",
       "      <td>273.78</td>\n",
       "      <td>34558700</td>\n",
       "      <td>NaN</td>\n",
       "      <td>1941.1</td>\n",
       "      <td>NaN</td>\n",
       "    </tr>\n",
       "    <tr>\n",
       "      <th>2572</th>\n",
       "      <td>3/22/2023</td>\n",
       "      <td>273.399994</td>\n",
       "      <td>281.040009</td>\n",
       "      <td>272.179993</td>\n",
       "      <td>272.290009</td>\n",
       "      <td>272.29</td>\n",
       "      <td>34873300</td>\n",
       "      <td>NaN</td>\n",
       "      <td>1949.6</td>\n",
       "      <td>NaN</td>\n",
       "    </tr>\n",
       "    <tr>\n",
       "      <th>2573</th>\n",
       "      <td>3/23/2023</td>\n",
       "      <td>277.940002</td>\n",
       "      <td>281.059998</td>\n",
       "      <td>275.200012</td>\n",
       "      <td>277.660004</td>\n",
       "      <td>277.66</td>\n",
       "      <td>36610900</td>\n",
       "      <td>NaN</td>\n",
       "      <td>1995.9</td>\n",
       "      <td>NaN</td>\n",
       "    </tr>\n",
       "    <tr>\n",
       "      <th>2574</th>\n",
       "      <td>3/24/2023</td>\n",
       "      <td>277.239990</td>\n",
       "      <td>280.630005</td>\n",
       "      <td>275.279999</td>\n",
       "      <td>280.570007</td>\n",
       "      <td>280.57</td>\n",
       "      <td>28172000</td>\n",
       "      <td>NaN</td>\n",
       "      <td>1983.8</td>\n",
       "      <td>NaN</td>\n",
       "    </tr>\n",
       "  </tbody>\n",
       "</table>\n",
       "<p>2575 rows × 10 columns</p>\n",
       "</div>"
      ],
      "text/plain": [
       "           Date        Open        High         Low       Close  Adj Close  \\\n",
       "0      1/2/2013   27.250000   27.730000   27.150000   27.620001      22.72   \n",
       "1      1/3/2013   27.629999   27.650000   27.160000   27.250000      22.41   \n",
       "2      1/4/2013   27.270000   27.340000   26.730000   26.740000      21.99   \n",
       "3      1/7/2013   26.770000   26.879999   26.639999   26.690001      21.95   \n",
       "4      1/8/2013   26.750000   26.790001   26.459999   26.549999      21.84   \n",
       "...         ...         ...         ...         ...         ...        ...   \n",
       "2570  3/20/2023  276.980011  277.480011  269.850006  272.230011     272.23   \n",
       "2571  3/21/2023  274.880005  275.000000  269.519989  273.779999     273.78   \n",
       "2572  3/22/2023  273.399994  281.040009  272.179993  272.290009     272.29   \n",
       "2573  3/23/2023  277.940002  281.059998  275.200012  277.660004     277.66   \n",
       "2574  3/24/2023  277.239990  280.630005  275.279999  280.570007     280.57   \n",
       "\n",
       "        Volume  Inflation  Close/Last  Unemployment  \n",
       "0     52899300        0.2         NaN           8.0  \n",
       "1     48294400        0.2         NaN           8.0  \n",
       "2     52521100        0.2         NaN           8.0  \n",
       "3     37110400        0.2         NaN           8.0  \n",
       "4     44703100        0.2         NaN           8.0  \n",
       "...        ...        ...         ...           ...  \n",
       "2570  43466600        NaN      1999.7           NaN  \n",
       "2571  34558700        NaN      1941.1           NaN  \n",
       "2572  34873300        NaN      1949.6           NaN  \n",
       "2573  36610900        NaN      1995.9           NaN  \n",
       "2574  28172000        NaN      1983.8           NaN  \n",
       "\n",
       "[2575 rows x 10 columns]"
      ]
     },
     "execution_count": 7,
     "metadata": {},
     "output_type": "execute_result"
    }
   ],
   "source": [
    "df"
   ]
  },
  {
   "cell_type": "code",
   "execution_count": 8,
   "metadata": {},
   "outputs": [
    {
     "data": {
      "text/html": [
       "<div>\n",
       "<style scoped>\n",
       "    .dataframe tbody tr th:only-of-type {\n",
       "        vertical-align: middle;\n",
       "    }\n",
       "\n",
       "    .dataframe tbody tr th {\n",
       "        vertical-align: top;\n",
       "    }\n",
       "\n",
       "    .dataframe thead th {\n",
       "        text-align: right;\n",
       "    }\n",
       "</style>\n",
       "<table border=\"1\" class=\"dataframe\">\n",
       "  <thead>\n",
       "    <tr style=\"text-align: right;\">\n",
       "      <th></th>\n",
       "      <th>Date</th>\n",
       "      <th>Open</th>\n",
       "      <th>High</th>\n",
       "      <th>Low</th>\n",
       "      <th>Close</th>\n",
       "      <th>Adj Close</th>\n",
       "      <th>Volume</th>\n",
       "      <th>Inflation</th>\n",
       "      <th>Close/Last</th>\n",
       "      <th>Unemployment</th>\n",
       "    </tr>\n",
       "  </thead>\n",
       "  <tbody>\n",
       "    <tr>\n",
       "      <th>0</th>\n",
       "      <td>1/2/2013</td>\n",
       "      <td>27.250000</td>\n",
       "      <td>27.730000</td>\n",
       "      <td>27.150000</td>\n",
       "      <td>27.620001</td>\n",
       "      <td>22.72</td>\n",
       "      <td>52899300</td>\n",
       "      <td>0.2</td>\n",
       "      <td>NaN</td>\n",
       "      <td>8.0</td>\n",
       "    </tr>\n",
       "    <tr>\n",
       "      <th>1</th>\n",
       "      <td>1/3/2013</td>\n",
       "      <td>27.629999</td>\n",
       "      <td>27.650000</td>\n",
       "      <td>27.160000</td>\n",
       "      <td>27.250000</td>\n",
       "      <td>22.41</td>\n",
       "      <td>48294400</td>\n",
       "      <td>0.2</td>\n",
       "      <td>NaN</td>\n",
       "      <td>8.0</td>\n",
       "    </tr>\n",
       "    <tr>\n",
       "      <th>2</th>\n",
       "      <td>1/4/2013</td>\n",
       "      <td>27.270000</td>\n",
       "      <td>27.340000</td>\n",
       "      <td>26.730000</td>\n",
       "      <td>26.740000</td>\n",
       "      <td>21.99</td>\n",
       "      <td>52521100</td>\n",
       "      <td>0.2</td>\n",
       "      <td>NaN</td>\n",
       "      <td>8.0</td>\n",
       "    </tr>\n",
       "    <tr>\n",
       "      <th>3</th>\n",
       "      <td>1/7/2013</td>\n",
       "      <td>26.770000</td>\n",
       "      <td>26.879999</td>\n",
       "      <td>26.639999</td>\n",
       "      <td>26.690001</td>\n",
       "      <td>21.95</td>\n",
       "      <td>37110400</td>\n",
       "      <td>0.2</td>\n",
       "      <td>NaN</td>\n",
       "      <td>8.0</td>\n",
       "    </tr>\n",
       "    <tr>\n",
       "      <th>4</th>\n",
       "      <td>1/8/2013</td>\n",
       "      <td>26.750000</td>\n",
       "      <td>26.790001</td>\n",
       "      <td>26.459999</td>\n",
       "      <td>26.549999</td>\n",
       "      <td>21.84</td>\n",
       "      <td>44703100</td>\n",
       "      <td>0.2</td>\n",
       "      <td>NaN</td>\n",
       "      <td>8.0</td>\n",
       "    </tr>\n",
       "    <tr>\n",
       "      <th>5</th>\n",
       "      <td>1/9/2013</td>\n",
       "      <td>26.719999</td>\n",
       "      <td>26.750000</td>\n",
       "      <td>26.559999</td>\n",
       "      <td>26.700001</td>\n",
       "      <td>21.96</td>\n",
       "      <td>49047900</td>\n",
       "      <td>0.2</td>\n",
       "      <td>NaN</td>\n",
       "      <td>8.0</td>\n",
       "    </tr>\n",
       "    <tr>\n",
       "      <th>6</th>\n",
       "      <td>1/10/2013</td>\n",
       "      <td>26.650000</td>\n",
       "      <td>26.980000</td>\n",
       "      <td>26.290001</td>\n",
       "      <td>26.459999</td>\n",
       "      <td>21.76</td>\n",
       "      <td>71431300</td>\n",
       "      <td>0.2</td>\n",
       "      <td>NaN</td>\n",
       "      <td>8.0</td>\n",
       "    </tr>\n",
       "    <tr>\n",
       "      <th>7</th>\n",
       "      <td>1/11/2013</td>\n",
       "      <td>26.490000</td>\n",
       "      <td>26.930000</td>\n",
       "      <td>26.280001</td>\n",
       "      <td>26.830000</td>\n",
       "      <td>22.07</td>\n",
       "      <td>55512100</td>\n",
       "      <td>0.2</td>\n",
       "      <td>NaN</td>\n",
       "      <td>8.0</td>\n",
       "    </tr>\n",
       "    <tr>\n",
       "      <th>8</th>\n",
       "      <td>1/14/2013</td>\n",
       "      <td>26.900000</td>\n",
       "      <td>27.080000</td>\n",
       "      <td>26.760000</td>\n",
       "      <td>26.889999</td>\n",
       "      <td>22.12</td>\n",
       "      <td>48324400</td>\n",
       "      <td>0.2</td>\n",
       "      <td>NaN</td>\n",
       "      <td>8.0</td>\n",
       "    </tr>\n",
       "    <tr>\n",
       "      <th>9</th>\n",
       "      <td>1/15/2013</td>\n",
       "      <td>26.830000</td>\n",
       "      <td>27.290001</td>\n",
       "      <td>26.830000</td>\n",
       "      <td>27.209999</td>\n",
       "      <td>22.38</td>\n",
       "      <td>48244500</td>\n",
       "      <td>0.2</td>\n",
       "      <td>NaN</td>\n",
       "      <td>8.0</td>\n",
       "    </tr>\n",
       "  </tbody>\n",
       "</table>\n",
       "</div>"
      ],
      "text/plain": [
       "        Date       Open       High        Low      Close  Adj Close    Volume  \\\n",
       "0   1/2/2013  27.250000  27.730000  27.150000  27.620001      22.72  52899300   \n",
       "1   1/3/2013  27.629999  27.650000  27.160000  27.250000      22.41  48294400   \n",
       "2   1/4/2013  27.270000  27.340000  26.730000  26.740000      21.99  52521100   \n",
       "3   1/7/2013  26.770000  26.879999  26.639999  26.690001      21.95  37110400   \n",
       "4   1/8/2013  26.750000  26.790001  26.459999  26.549999      21.84  44703100   \n",
       "5   1/9/2013  26.719999  26.750000  26.559999  26.700001      21.96  49047900   \n",
       "6  1/10/2013  26.650000  26.980000  26.290001  26.459999      21.76  71431300   \n",
       "7  1/11/2013  26.490000  26.930000  26.280001  26.830000      22.07  55512100   \n",
       "8  1/14/2013  26.900000  27.080000  26.760000  26.889999      22.12  48324400   \n",
       "9  1/15/2013  26.830000  27.290001  26.830000  27.209999      22.38  48244500   \n",
       "\n",
       "   Inflation  Close/Last  Unemployment  \n",
       "0        0.2         NaN           8.0  \n",
       "1        0.2         NaN           8.0  \n",
       "2        0.2         NaN           8.0  \n",
       "3        0.2         NaN           8.0  \n",
       "4        0.2         NaN           8.0  \n",
       "5        0.2         NaN           8.0  \n",
       "6        0.2         NaN           8.0  \n",
       "7        0.2         NaN           8.0  \n",
       "8        0.2         NaN           8.0  \n",
       "9        0.2         NaN           8.0  "
      ]
     },
     "execution_count": 8,
     "metadata": {},
     "output_type": "execute_result"
    }
   ],
   "source": [
    "df.head(10)"
   ]
  },
  {
   "cell_type": "code",
   "execution_count": 9,
   "metadata": {},
   "outputs": [
    {
     "name": "stdout",
     "output_type": "stream",
     "text": [
      "<class 'pandas.core.frame.DataFrame'>\n",
      "Int64Index: 2575 entries, 0 to 2574\n",
      "Data columns (total 10 columns):\n",
      " #   Column        Non-Null Count  Dtype  \n",
      "---  ------        --------------  -----  \n",
      " 0   Date          2575 non-null   object \n",
      " 1   Open          2575 non-null   float64\n",
      " 2   High          2575 non-null   float64\n",
      " 3   Low           2575 non-null   float64\n",
      " 4   Close         2575 non-null   float64\n",
      " 5   Adj Close     2575 non-null   float64\n",
      " 6   Volume        2575 non-null   int64  \n",
      " 7   Inflation     2557 non-null   float64\n",
      " 8   Close/Last    2518 non-null   float64\n",
      " 9   Unemployment  2557 non-null   float64\n",
      "dtypes: float64(8), int64(1), object(1)\n",
      "memory usage: 221.3+ KB\n"
     ]
    }
   ],
   "source": [
    "df.info()"
   ]
  },
  {
   "cell_type": "code",
   "execution_count": 10,
   "metadata": {},
   "outputs": [
    {
     "data": {
      "text/html": [
       "<div>\n",
       "<style scoped>\n",
       "    .dataframe tbody tr th:only-of-type {\n",
       "        vertical-align: middle;\n",
       "    }\n",
       "\n",
       "    .dataframe tbody tr th {\n",
       "        vertical-align: top;\n",
       "    }\n",
       "\n",
       "    .dataframe thead th {\n",
       "        text-align: right;\n",
       "    }\n",
       "</style>\n",
       "<table border=\"1\" class=\"dataframe\">\n",
       "  <thead>\n",
       "    <tr style=\"text-align: right;\">\n",
       "      <th></th>\n",
       "      <th>Open</th>\n",
       "      <th>High</th>\n",
       "      <th>Low</th>\n",
       "      <th>Close</th>\n",
       "      <th>Adj Close</th>\n",
       "      <th>Volume</th>\n",
       "      <th>Inflation</th>\n",
       "      <th>Close/Last</th>\n",
       "      <th>Unemployment</th>\n",
       "    </tr>\n",
       "  </thead>\n",
       "  <tbody>\n",
       "    <tr>\n",
       "      <th>count</th>\n",
       "      <td>2575.000000</td>\n",
       "      <td>2575.000000</td>\n",
       "      <td>2575.000000</td>\n",
       "      <td>2575.000000</td>\n",
       "      <td>2575.000000</td>\n",
       "      <td>2.575000e+03</td>\n",
       "      <td>2557.000000</td>\n",
       "      <td>2518.000000</td>\n",
       "      <td>2557.000000</td>\n",
       "    </tr>\n",
       "    <tr>\n",
       "      <th>mean</th>\n",
       "      <td>124.674054</td>\n",
       "      <td>125.936128</td>\n",
       "      <td>123.369565</td>\n",
       "      <td>124.717953</td>\n",
       "      <td>120.020730</td>\n",
       "      <td>3.227252e+07</td>\n",
       "      <td>0.207939</td>\n",
       "      <td>1446.053177</td>\n",
       "      <td>5.254752</td>\n",
       "    </tr>\n",
       "    <tr>\n",
       "      <th>std</th>\n",
       "      <td>90.942821</td>\n",
       "      <td>91.957887</td>\n",
       "      <td>89.867191</td>\n",
       "      <td>90.956959</td>\n",
       "      <td>91.853274</td>\n",
       "      <td>1.670179e+07</td>\n",
       "      <td>0.268588</td>\n",
       "      <td>264.827419</td>\n",
       "      <td>1.810415</td>\n",
       "    </tr>\n",
       "    <tr>\n",
       "      <th>min</th>\n",
       "      <td>26.490000</td>\n",
       "      <td>26.750000</td>\n",
       "      <td>26.280001</td>\n",
       "      <td>26.459999</td>\n",
       "      <td>21.760000</td>\n",
       "      <td>7.425600e+06</td>\n",
       "      <td>-0.800000</td>\n",
       "      <td>1049.600000</td>\n",
       "      <td>3.400000</td>\n",
       "    </tr>\n",
       "    <tr>\n",
       "      <th>25%</th>\n",
       "      <td>47.254999</td>\n",
       "      <td>47.695000</td>\n",
       "      <td>46.710001</td>\n",
       "      <td>47.299999</td>\n",
       "      <td>41.485000</td>\n",
       "      <td>2.248075e+07</td>\n",
       "      <td>0.100000</td>\n",
       "      <td>1244.225000</td>\n",
       "      <td>3.900000</td>\n",
       "    </tr>\n",
       "    <tr>\n",
       "      <th>50%</th>\n",
       "      <td>90.610001</td>\n",
       "      <td>92.459999</td>\n",
       "      <td>89.660004</td>\n",
       "      <td>91.269997</td>\n",
       "      <td>85.790000</td>\n",
       "      <td>2.837280e+07</td>\n",
       "      <td>0.200000</td>\n",
       "      <td>1319.100000</td>\n",
       "      <td>4.900000</td>\n",
       "    </tr>\n",
       "    <tr>\n",
       "      <th>75%</th>\n",
       "      <td>209.574997</td>\n",
       "      <td>212.040001</td>\n",
       "      <td>207.244996</td>\n",
       "      <td>209.764999</td>\n",
       "      <td>205.010000</td>\n",
       "      <td>3.673285e+07</td>\n",
       "      <td>0.300000</td>\n",
       "      <td>1734.600000</td>\n",
       "      <td>6.100000</td>\n",
       "    </tr>\n",
       "    <tr>\n",
       "      <th>max</th>\n",
       "      <td>344.619995</td>\n",
       "      <td>349.670013</td>\n",
       "      <td>342.200012</td>\n",
       "      <td>343.109985</td>\n",
       "      <td>339.080000</td>\n",
       "      <td>2.484285e+08</td>\n",
       "      <td>1.200000</td>\n",
       "      <td>2069.400000</td>\n",
       "      <td>14.700000</td>\n",
       "    </tr>\n",
       "  </tbody>\n",
       "</table>\n",
       "</div>"
      ],
      "text/plain": [
       "              Open         High          Low        Close    Adj Close  \\\n",
       "count  2575.000000  2575.000000  2575.000000  2575.000000  2575.000000   \n",
       "mean    124.674054   125.936128   123.369565   124.717953   120.020730   \n",
       "std      90.942821    91.957887    89.867191    90.956959    91.853274   \n",
       "min      26.490000    26.750000    26.280001    26.459999    21.760000   \n",
       "25%      47.254999    47.695000    46.710001    47.299999    41.485000   \n",
       "50%      90.610001    92.459999    89.660004    91.269997    85.790000   \n",
       "75%     209.574997   212.040001   207.244996   209.764999   205.010000   \n",
       "max     344.619995   349.670013   342.200012   343.109985   339.080000   \n",
       "\n",
       "             Volume    Inflation   Close/Last  Unemployment  \n",
       "count  2.575000e+03  2557.000000  2518.000000   2557.000000  \n",
       "mean   3.227252e+07     0.207939  1446.053177      5.254752  \n",
       "std    1.670179e+07     0.268588   264.827419      1.810415  \n",
       "min    7.425600e+06    -0.800000  1049.600000      3.400000  \n",
       "25%    2.248075e+07     0.100000  1244.225000      3.900000  \n",
       "50%    2.837280e+07     0.200000  1319.100000      4.900000  \n",
       "75%    3.673285e+07     0.300000  1734.600000      6.100000  \n",
       "max    2.484285e+08     1.200000  2069.400000     14.700000  "
      ]
     },
     "execution_count": 10,
     "metadata": {},
     "output_type": "execute_result"
    }
   ],
   "source": [
    "df.describe()"
   ]
  },
  {
   "cell_type": "code",
   "execution_count": 11,
   "metadata": {},
   "outputs": [
    {
     "data": {
      "text/plain": [
       "Date             0\n",
       "Open             0\n",
       "High             0\n",
       "Low              0\n",
       "Close            0\n",
       "Adj Close        0\n",
       "Volume           0\n",
       "Inflation       18\n",
       "Close/Last      57\n",
       "Unemployment    18\n",
       "dtype: int64"
      ]
     },
     "execution_count": 11,
     "metadata": {},
     "output_type": "execute_result"
    }
   ],
   "source": [
    "df.isnull().sum()"
   ]
  },
  {
   "cell_type": "code",
   "execution_count": 12,
   "metadata": {},
   "outputs": [
    {
     "data": {
      "text/plain": [
       "[<matplotlib.lines.Line2D at 0x28a44bf5a60>]"
      ]
     },
     "execution_count": 12,
     "metadata": {},
     "output_type": "execute_result"
    },
    {
     "data": {
      "image/png": "[encoded data removed]",
      "text/plain": [
       "<Figure size 1152x576 with 1 Axes>"
      ]
     },
     "metadata": {
      "needs_background": "light"
     },
     "output_type": "display_data"
    }
   ],
   "source": [
    "df[\"Date\"]=pd.to_datetime(df.Date,format=\"%m/%d/%Y\")\n",
    "df.index=df['Date']\n",
    "plt.figure(figsize=(16,8))\n",
    "plt.plot(df[\"Adj Close\"],label='Close Price history')"
   ]
  },
  {
   "cell_type": "code",
   "execution_count": 13,
   "metadata": {},
   "outputs": [],
   "source": [
    "from sklearn.impute import KNNImputer"
   ]
  },
  {
   "cell_type": "code",
   "execution_count": 14,
   "metadata": {},
   "outputs": [
    {
     "name": "stdout",
     "output_type": "stream",
     "text": [
      "                    Date        Open        High         Low       Close  \\\n",
      "Date                                                                       \n",
      "2013-01-02  1.357085e+18   27.250000   27.730000   27.150000   27.620001   \n",
      "2013-01-03  1.357171e+18   27.629999   27.650000   27.160000   27.250000   \n",
      "2013-01-04  1.357258e+18   27.270000   27.340000   26.730000   26.740000   \n",
      "2013-01-07  1.357517e+18   26.770000   26.879999   26.639999   26.690001   \n",
      "2013-01-08  1.357603e+18   26.750000   26.790001   26.459999   26.549999   \n",
      "...                  ...         ...         ...         ...         ...   \n",
      "2023-03-20  1.679270e+18  276.980011  277.480011  269.850006  272.230011   \n",
      "2023-03-21  1.679357e+18  274.880005  275.000000  269.519989  273.779999   \n",
      "2023-03-22  1.679443e+18  273.399994  281.040009  272.179993  272.290009   \n",
      "2023-03-23  1.679530e+18  277.940002  281.059998  275.200012  277.660004   \n",
      "2023-03-24  1.679616e+18  277.239990  280.630005  275.279999  280.570007   \n",
      "\n",
      "            Adj Close      Volume  Inflation   Close/Last  Unemployment  \n",
      "Date                                                                     \n",
      "2013-01-02      22.72  52899300.0   0.200000  1446.053177      8.000000  \n",
      "2013-01-03      22.41  48294400.0   0.200000  1446.053177      8.000000  \n",
      "2013-01-04      21.99  52521100.0   0.200000  1446.053177      8.000000  \n",
      "2013-01-07      21.95  37110400.0   0.200000  1446.053177      8.000000  \n",
      "2013-01-08      21.84  44703100.0   0.200000  1446.053177      8.000000  \n",
      "...               ...         ...        ...          ...           ...  \n",
      "2023-03-20     272.23  43466600.0   0.207939  1999.700000      5.254752  \n",
      "2023-03-21     273.78  34558700.0   0.207939  1941.100000      5.254752  \n",
      "2023-03-22     272.29  34873300.0   0.207939  1949.600000      5.254752  \n",
      "2023-03-23     277.66  36610900.0   0.207939  1995.900000      5.254752  \n",
      "2023-03-24     280.57  28172000.0   0.207939  1983.800000      5.254752  \n",
      "\n",
      "[2575 rows x 10 columns]\n"
     ]
    }
   ],
   "source": [
    "n_neighbors = 5\n",
    "\n",
    "# create a k-NN imputer object\n",
    "imputer = KNNImputer(n_neighbors=n_neighbors)\n",
    "\n",
    "# loop over each column in the DataFrame\n",
    "for column in df.columns:\n",
    "    # get the column data as a numpy array\n",
    "    column_data = df[column].values.reshape(-1, 1)\n",
    "    \n",
    "    # use k-NN imputation to fill in missing values\n",
    "    imputer.fit(column_data)\n",
    "    column_data_imputed = imputer.transform(column_data)\n",
    "    \n",
    "    # replace the original column with the imputed column\n",
    "    df[column] = column_data_imputed.flatten()\n",
    "\n",
    "print(df)"
   ]
  },
  {
   "cell_type": "code",
   "execution_count": 15,
   "metadata": {},
   "outputs": [
    {
     "data": {
      "text/html": [
       "<div>\n",
       "<style scoped>\n",
       "    .dataframe tbody tr th:only-of-type {\n",
       "        vertical-align: middle;\n",
       "    }\n",
       "\n",
       "    .dataframe tbody tr th {\n",
       "        vertical-align: top;\n",
       "    }\n",
       "\n",
       "    .dataframe thead th {\n",
       "        text-align: right;\n",
       "    }\n",
       "</style>\n",
       "<table border=\"1\" class=\"dataframe\">\n",
       "  <thead>\n",
       "    <tr style=\"text-align: right;\">\n",
       "      <th></th>\n",
       "      <th>Date</th>\n",
       "      <th>Open</th>\n",
       "      <th>High</th>\n",
       "      <th>Low</th>\n",
       "      <th>Close</th>\n",
       "      <th>Adj Close</th>\n",
       "      <th>Volume</th>\n",
       "      <th>Inflation</th>\n",
       "      <th>Close/Last</th>\n",
       "      <th>Unemployment</th>\n",
       "    </tr>\n",
       "    <tr>\n",
       "      <th>Date</th>\n",
       "      <th></th>\n",
       "      <th></th>\n",
       "      <th></th>\n",
       "      <th></th>\n",
       "      <th></th>\n",
       "      <th></th>\n",
       "      <th></th>\n",
       "      <th></th>\n",
       "      <th></th>\n",
       "      <th></th>\n",
       "    </tr>\n",
       "  </thead>\n",
       "  <tbody>\n",
       "    <tr>\n",
       "      <th>2013-01-02</th>\n",
       "      <td>1.357085e+18</td>\n",
       "      <td>27.250000</td>\n",
       "      <td>27.730000</td>\n",
       "      <td>27.150000</td>\n",
       "      <td>27.620001</td>\n",
       "      <td>22.72</td>\n",
       "      <td>52899300.0</td>\n",
       "      <td>0.2</td>\n",
       "      <td>1446.053177</td>\n",
       "      <td>8.0</td>\n",
       "    </tr>\n",
       "    <tr>\n",
       "      <th>2013-01-03</th>\n",
       "      <td>1.357171e+18</td>\n",
       "      <td>27.629999</td>\n",
       "      <td>27.650000</td>\n",
       "      <td>27.160000</td>\n",
       "      <td>27.250000</td>\n",
       "      <td>22.41</td>\n",
       "      <td>48294400.0</td>\n",
       "      <td>0.2</td>\n",
       "      <td>1446.053177</td>\n",
       "      <td>8.0</td>\n",
       "    </tr>\n",
       "    <tr>\n",
       "      <th>2013-01-04</th>\n",
       "      <td>1.357258e+18</td>\n",
       "      <td>27.270000</td>\n",
       "      <td>27.340000</td>\n",
       "      <td>26.730000</td>\n",
       "      <td>26.740000</td>\n",
       "      <td>21.99</td>\n",
       "      <td>52521100.0</td>\n",
       "      <td>0.2</td>\n",
       "      <td>1446.053177</td>\n",
       "      <td>8.0</td>\n",
       "    </tr>\n",
       "    <tr>\n",
       "      <th>2013-01-07</th>\n",
       "      <td>1.357517e+18</td>\n",
       "      <td>26.770000</td>\n",
       "      <td>26.879999</td>\n",
       "      <td>26.639999</td>\n",
       "      <td>26.690001</td>\n",
       "      <td>21.95</td>\n",
       "      <td>37110400.0</td>\n",
       "      <td>0.2</td>\n",
       "      <td>1446.053177</td>\n",
       "      <td>8.0</td>\n",
       "    </tr>\n",
       "    <tr>\n",
       "      <th>2013-01-08</th>\n",
       "      <td>1.357603e+18</td>\n",
       "      <td>26.750000</td>\n",
       "      <td>26.790001</td>\n",
       "      <td>26.459999</td>\n",
       "      <td>26.549999</td>\n",
       "      <td>21.84</td>\n",
       "      <td>44703100.0</td>\n",
       "      <td>0.2</td>\n",
       "      <td>1446.053177</td>\n",
       "      <td>8.0</td>\n",
       "    </tr>\n",
       "  </tbody>\n",
       "</table>\n",
       "</div>"
      ],
      "text/plain": [
       "                    Date       Open       High        Low      Close  \\\n",
       "Date                                                                   \n",
       "2013-01-02  1.357085e+18  27.250000  27.730000  27.150000  27.620001   \n",
       "2013-01-03  1.357171e+18  27.629999  27.650000  27.160000  27.250000   \n",
       "2013-01-04  1.357258e+18  27.270000  27.340000  26.730000  26.740000   \n",
       "2013-01-07  1.357517e+18  26.770000  26.879999  26.639999  26.690001   \n",
       "2013-01-08  1.357603e+18  26.750000  26.790001  26.459999  26.549999   \n",
       "\n",
       "            Adj Close      Volume  Inflation   Close/Last  Unemployment  \n",
       "Date                                                                     \n",
       "2013-01-02      22.72  52899300.0        0.2  1446.053177           8.0  \n",
       "2013-01-03      22.41  48294400.0        0.2  1446.053177           8.0  \n",
       "2013-01-04      21.99  52521100.0        0.2  1446.053177           8.0  \n",
       "2013-01-07      21.95  37110400.0        0.2  1446.053177           8.0  \n",
       "2013-01-08      21.84  44703100.0        0.2  1446.053177           8.0  "
      ]
     },
     "execution_count": 15,
     "metadata": {},
     "output_type": "execute_result"
    }
   ],
   "source": [
    "df.head()"
   ]
  },
  {
   "cell_type": "code",
   "execution_count": 16,
   "metadata": {},
   "outputs": [
    {
     "data": {
      "text/plain": [
       "Date            0\n",
       "Open            0\n",
       "High            0\n",
       "Low             0\n",
       "Close           0\n",
       "Adj Close       0\n",
       "Volume          0\n",
       "Inflation       0\n",
       "Close/Last      0\n",
       "Unemployment    0\n",
       "dtype: int64"
      ]
     },
     "execution_count": 16,
     "metadata": {},
     "output_type": "execute_result"
    }
   ],
   "source": [
    "df.isnull().sum()"
   ]
  },
  {
   "cell_type": "code",
   "execution_count": 17,
   "metadata": {},
   "outputs": [
    {
     "name": "stdout",
     "output_type": "stream",
     "text": [
      "<class 'pandas.core.frame.DataFrame'>\n",
      "DatetimeIndex: 2575 entries, 2013-01-02 to 2023-03-24\n",
      "Data columns (total 10 columns):\n",
      " #   Column        Non-Null Count  Dtype  \n",
      "---  ------        --------------  -----  \n",
      " 0   Date          2575 non-null   float64\n",
      " 1   Open          2575 non-null   float64\n",
      " 2   High          2575 non-null   float64\n",
      " 3   Low           2575 non-null   float64\n",
      " 4   Close         2575 non-null   float64\n",
      " 5   Adj Close     2575 non-null   float64\n",
      " 6   Volume        2575 non-null   float64\n",
      " 7   Inflation     2575 non-null   float64\n",
      " 8   Close/Last    2575 non-null   float64\n",
      " 9   Unemployment  2575 non-null   float64\n",
      "dtypes: float64(10)\n",
      "memory usage: 221.3 KB\n"
     ]
    }
   ],
   "source": [
    "df.info()"
   ]
  },
  {
   "cell_type": "code",
   "execution_count": 18,
   "metadata": {},
   "outputs": [
    {
     "data": {
      "image/png": "[encoded data removed]",
      "text/plain": [
       "<Figure size 432x288 with 2 Axes>"
      ]
     },
     "metadata": {
      "needs_background": "light"
     },
     "output_type": "display_data"
    }
   ],
   "source": [
    "_ = sns.heatmap(df.corr())"
   ]
  },
  {
   "cell_type": "code",
   "execution_count": 19,
   "metadata": {},
   "outputs": [],
   "source": [
    "Cleansed_df = df.drop(['Date', 'Volume', 'Open', 'Close', 'High', 'Low', 'Unemployment'], axis=1)"
   ]
  },
  {
   "cell_type": "code",
   "execution_count": 20,
   "metadata": {},
   "outputs": [],
   "source": [
    "Cleansed_df.rename(columns = {'Close/Last':'Gold Price', 'Inflation':'Inflation Rate', 'Adj Close':'MSFT Stock Price'}, inplace = True)"
   ]
  },
  {
   "cell_type": "code",
   "execution_count": 21,
   "metadata": {},
   "outputs": [
    {
     "data": {
      "text/html": [
       "<div>\n",
       "<style scoped>\n",
       "    .dataframe tbody tr th:only-of-type {\n",
       "        vertical-align: middle;\n",
       "    }\n",
       "\n",
       "    .dataframe tbody tr th {\n",
       "        vertical-align: top;\n",
       "    }\n",
       "\n",
       "    .dataframe thead th {\n",
       "        text-align: right;\n",
       "    }\n",
       "</style>\n",
       "<table border=\"1\" class=\"dataframe\">\n",
       "  <thead>\n",
       "    <tr style=\"text-align: right;\">\n",
       "      <th></th>\n",
       "      <th>MSFT Stock Price</th>\n",
       "      <th>Inflation Rate</th>\n",
       "      <th>Gold Price</th>\n",
       "    </tr>\n",
       "    <tr>\n",
       "      <th>Date</th>\n",
       "      <th></th>\n",
       "      <th></th>\n",
       "      <th></th>\n",
       "    </tr>\n",
       "  </thead>\n",
       "  <tbody>\n",
       "    <tr>\n",
       "      <th>2013-01-02</th>\n",
       "      <td>22.72</td>\n",
       "      <td>0.2</td>\n",
       "      <td>1446.053177</td>\n",
       "    </tr>\n",
       "    <tr>\n",
       "      <th>2013-01-03</th>\n",
       "      <td>22.41</td>\n",
       "      <td>0.2</td>\n",
       "      <td>1446.053177</td>\n",
       "    </tr>\n",
       "    <tr>\n",
       "      <th>2013-01-04</th>\n",
       "      <td>21.99</td>\n",
       "      <td>0.2</td>\n",
       "      <td>1446.053177</td>\n",
       "    </tr>\n",
       "    <tr>\n",
       "      <th>2013-01-07</th>\n",
       "      <td>21.95</td>\n",
       "      <td>0.2</td>\n",
       "      <td>1446.053177</td>\n",
       "    </tr>\n",
       "    <tr>\n",
       "      <th>2013-01-08</th>\n",
       "      <td>21.84</td>\n",
       "      <td>0.2</td>\n",
       "      <td>1446.053177</td>\n",
       "    </tr>\n",
       "  </tbody>\n",
       "</table>\n",
       "</div>"
      ],
      "text/plain": [
       "            MSFT Stock Price  Inflation Rate   Gold Price\n",
       "Date                                                     \n",
       "2013-01-02             22.72             0.2  1446.053177\n",
       "2013-01-03             22.41             0.2  1446.053177\n",
       "2013-01-04             21.99             0.2  1446.053177\n",
       "2013-01-07             21.95             0.2  1446.053177\n",
       "2013-01-08             21.84             0.2  1446.053177"
      ]
     },
     "execution_count": 21,
     "metadata": {},
     "output_type": "execute_result"
    }
   ],
   "source": [
    "Cleansed_df.head()"
   ]
  },
  {
   "cell_type": "code",
   "execution_count": 22,
   "metadata": {},
   "outputs": [
    {
     "name": "stdout",
     "output_type": "stream",
     "text": [
      "<class 'pandas.core.frame.DataFrame'>\n",
      "DatetimeIndex: 2575 entries, 2013-01-02 to 2023-03-24\n",
      "Data columns (total 3 columns):\n",
      " #   Column            Non-Null Count  Dtype  \n",
      "---  ------            --------------  -----  \n",
      " 0   MSFT Stock Price  2575 non-null   float64\n",
      " 1   Inflation Rate    2575 non-null   float64\n",
      " 2   Gold Price        2575 non-null   float64\n",
      "dtypes: float64(3)\n",
      "memory usage: 80.5 KB\n"
     ]
    }
   ],
   "source": [
    "Cleansed_df.info()"
   ]
  },
  {
   "cell_type": "code",
   "execution_count": 23,
   "metadata": {},
   "outputs": [
    {
     "data": {
      "text/plain": [
       "(2575, 3)"
      ]
     },
     "execution_count": 23,
     "metadata": {},
     "output_type": "execute_result"
    }
   ],
   "source": [
    "Cleansed_df.shape"
   ]
  },
  {
   "cell_type": "markdown",
   "metadata": {},
   "source": [
    "We have 3 feature columns and one target column. The target column is 'Adj Close' and there are 2543 rows to the data frame.¶\n",
    "\n",
    "EDA for the data set"
   ]
  },
  {
   "cell_type": "code",
   "execution_count": 24,
   "metadata": {},
   "outputs": [
    {
     "data": {
      "image/png": "[encoded data removed]",
      "text/plain": [
       "<Figure size 432x288 with 2 Axes>"
      ]
     },
     "metadata": {
      "needs_background": "light"
     },
     "output_type": "display_data"
    }
   ],
   "source": [
    "_ = sns.heatmap(Cleansed_df.corr())"
   ]
  },
  {
   "cell_type": "code",
   "execution_count": 25,
   "metadata": {},
   "outputs": [],
   "source": [
    "# features creation by making it into a function\n",
    "\n",
    "def create_features(Cleansed_df):\n",
    "    \"\"\"\n",
    "    Create time series features based on time series index\n",
    "    \"\"\"\n",
    "    Cleansed_df = Cleansed_df.copy()\n",
    "    Cleansed_df['day of week'] = Cleansed_df.index.dayofweek\n",
    "    Cleansed_df['quarter'] = Cleansed_df.index.quarter\n",
    "    Cleansed_df['month'] = Cleansed_df.index.month\n",
    "    Cleansed_df['year'] = Cleansed_df.index.year\n",
    "    return Cleansed_df\n",
    "\n",
    "Cleansed_df = create_features(Cleansed_df)"
   ]
  },
  {
   "cell_type": "code",
   "execution_count": 26,
   "metadata": {},
   "outputs": [
    {
     "data": {
      "text/plain": [
       "<AxesSubplot:xlabel='month', ylabel='MSFT Stock Price'>"
      ]
     },
     "execution_count": 26,
     "metadata": {},
     "output_type": "execute_result"
    },
    {
     "data": {
      "image/png": "[encoded data removed]",
      "text/plain": [
       "<Figure size 720x360 with 1 Axes>"
      ]
     },
     "metadata": {
      "needs_background": "light"
     },
     "output_type": "display_data"
    }
   ],
   "source": [
    "# We could vitualize our features\n",
    "\n",
    "fig, ax = plt.subplots(figsize=(10, 5))\n",
    "sns.boxplot(data=Cleansed_df, x='month', y='MSFT Stock Price')"
   ]
  },
  {
   "cell_type": "code",
   "execution_count": 27,
   "metadata": {},
   "outputs": [
    {
     "data": {
      "text/plain": [
       "<AxesSubplot:xlabel='quarter', ylabel='MSFT Stock Price'>"
      ]
     },
     "execution_count": 27,
     "metadata": {},
     "output_type": "execute_result"
    },
    {
     "data": {
      "image/png": "[encoded data removed]",
      "text/plain": [
       "<Figure size 720x360 with 1 Axes>"
      ]
     },
     "metadata": {
      "needs_background": "light"
     },
     "output_type": "display_data"
    }
   ],
   "source": [
    "fig, ax = plt.subplots(figsize=(10, 5))\n",
    "sns.boxplot(data=Cleansed_df, x='quarter', y='MSFT Stock Price')"
   ]
  },
  {
   "cell_type": "code",
   "execution_count": 28,
   "metadata": {},
   "outputs": [
    {
     "data": {
      "text/plain": [
       "<AxesSubplot:xlabel='year', ylabel='MSFT Stock Price'>"
      ]
     },
     "execution_count": 28,
     "metadata": {},
     "output_type": "execute_result"
    },
    {
     "data": {
      "image/png": "[encoded data removed]",
      "text/plain": [
       "<Figure size 720x360 with 1 Axes>"
      ]
     },
     "metadata": {
      "needs_background": "light"
     },
     "output_type": "display_data"
    }
   ],
   "source": [
    "fig, ax = plt.subplots(figsize=(10, 5))\n",
    "sns.boxplot(data=Cleansed_df, x='year', y='MSFT Stock Price')"
   ]
  },
  {
   "cell_type": "code",
   "execution_count": 29,
   "metadata": {},
   "outputs": [
    {
     "data": {
      "text/plain": [
       "<matplotlib.collections.PathCollection at 0x28a4757fe50>"
      ]
     },
     "execution_count": 29,
     "metadata": {},
     "output_type": "execute_result"
    },
    {
     "data": {
      "image/png": "[encoded data removed]",
      "text/plain": [
       "<Figure size 432x288 with 1 Axes>"
      ]
     },
     "metadata": {
      "needs_background": "light"
     },
     "output_type": "display_data"
    }
   ],
   "source": [
    "plt.scatter(Cleansed_df['Inflation Rate'],Cleansed_df['MSFT Stock Price'])"
   ]
  },
  {
   "cell_type": "code",
   "execution_count": 30,
   "metadata": {},
   "outputs": [],
   "source": [
    "# Select relevant columns for analysis\n",
    "Cleansed_df = Cleansed_df[['MSFT Stock Price', 'Inflation Rate', 'Gold Price']]"
   ]
  },
  {
   "cell_type": "code",
   "execution_count": 31,
   "metadata": {},
   "outputs": [],
   "source": [
    "# Define helper functions to create the dataset for the LSTM model\n",
    "def create_dataset(data, time_steps):\n",
    "    X, y = [], []\n",
    "    for i in range(len(data)-time_steps):\n",
    "        X.append(data[i:i+time_steps, 1:])\n",
    "        y.append(data[i+time_steps, 0])\n",
    "    X, y = np.array(X), np.array(y)\n",
    "    return X, y\n",
    "\n",
    "# Set the time steps parameter\n",
    "time_steps = 60"
   ]
  },
  {
   "cell_type": "code",
   "execution_count": 32,
   "metadata": {},
   "outputs": [],
   "source": [
    "# Split the data into train, validation, and test sets\n",
    "train_size = int(len(Cleansed_df) * 0.7)\n",
    "val_size = int(len(Cleansed_df) * 0.1)\n",
    "test_size = len(Cleansed_df) - train_size - val_size\n",
    "\n",
    "train_data = Cleansed_df.iloc[:train_size, :]\n",
    "val_data = Cleansed_df.iloc[train_size:train_size+val_size, :]\n",
    "test_data = Cleansed_df.iloc[train_size+val_size:, :]"
   ]
  },
  {
   "cell_type": "code",
   "execution_count": 33,
   "metadata": {},
   "outputs": [],
   "source": [
    "# Scale the data\n",
    "scaler = MinMaxScaler()\n",
    "train_data = scaler.fit_transform(train_data)\n",
    "val_data = scaler.transform(val_data)\n",
    "test_data = scaler.transform(test_data)"
   ]
  },
  {
   "cell_type": "code",
   "execution_count": 34,
   "metadata": {},
   "outputs": [],
   "source": [
    "# Create the training, validation, and test datasets\n",
    "X_train, y_train = create_dataset(train_data, time_steps)\n",
    "X_val, y_val = create_dataset(val_data, time_steps)\n",
    "X_test, y_test = create_dataset(test_data, time_steps)"
   ]
  },
  {
   "cell_type": "code",
   "execution_count": 35,
   "metadata": {},
   "outputs": [
    {
     "data": {
      "text/plain": [
       "(1742, 60, 2)"
      ]
     },
     "execution_count": 35,
     "metadata": {},
     "output_type": "execute_result"
    }
   ],
   "source": [
    "X_train.shape"
   ]
  },
  {
   "cell_type": "code",
   "execution_count": 36,
   "metadata": {},
   "outputs": [
    {
     "data": {
      "text/plain": [
       "(1742,)"
      ]
     },
     "execution_count": 36,
     "metadata": {},
     "output_type": "execute_result"
    }
   ],
   "source": [
    "y_train.shape"
   ]
  },
  {
   "cell_type": "code",
   "execution_count": 37,
   "metadata": {},
   "outputs": [
    {
     "name": "stdout",
     "output_type": "stream",
     "text": [
      "Epoch 1/10\n",
      "291/291 [==============================] - 4s 11ms/step - loss: 0.0401 - val_loss: 0.0346\n",
      "Epoch 2/10\n",
      "291/291 [==============================] - 3s 10ms/step - loss: 0.0334 - val_loss: 1.3656\n",
      "Epoch 3/10\n",
      "291/291 [==============================] - 3s 11ms/step - loss: 0.0294 - val_loss: 0.5839\n",
      "Epoch 4/10\n",
      "291/291 [==============================] - 3s 10ms/step - loss: 0.0305 - val_loss: 0.3001\n",
      "Epoch 5/10\n",
      "291/291 [==============================] - 3s 10ms/step - loss: 0.0276 - val_loss: 0.0943\n",
      "Epoch 6/10\n",
      "291/291 [==============================] - 3s 10ms/step - loss: 0.0317 - val_loss: 0.2467\n",
      "Epoch 7/10\n",
      "291/291 [==============================] - 3s 10ms/step - loss: 0.0272 - val_loss: 0.3685\n",
      "Epoch 8/10\n",
      "291/291 [==============================] - 3s 10ms/step - loss: 0.0277 - val_loss: 0.1898\n",
      "Epoch 9/10\n",
      "291/291 [==============================] - 3s 10ms/step - loss: 0.0260 - val_loss: 0.4411\n",
      "Epoch 10/10\n",
      "291/291 [==============================] - 3s 10ms/step - loss: 0.0248 - val_loss: 0.4421\n"
     ]
    }
   ],
   "source": [
    "# Define and train the LSTM model\n",
    "model = Sequential()\n",
    "model.add(LSTM(50, input_shape=(X_train.shape[1], X_train.shape[2])))\n",
    "model.add(Dense(1))\n",
    "model.compile(loss='mse', optimizer='adam')\n",
    "\n",
    "history = model.fit(X_train, y_train, epochs=10, batch_size=6, validation_data=(X_val, y_val))\n"
   ]
  },
  {
   "cell_type": "code",
   "execution_count": 38,
   "metadata": {},
   "outputs": [
    {
     "name": "stdout",
     "output_type": "stream",
     "text": [
      "Train loss: 0.023668747395277023\n",
      "Validation loss: 0.44214823842048645\n",
      "Test loss: 0.15067097544670105\n"
     ]
    }
   ],
   "source": [
    "# Evaluate the model\n",
    "train_loss = model.evaluate(X_train, y_train, verbose=0)\n",
    "val_loss = model.evaluate(X_val, y_val, verbose=0)\n",
    "test_loss = model.evaluate(X_test, y_test, verbose=0)\n",
    "print('Train loss:', train_loss)\n",
    "print('Validation loss:', val_loss)\n",
    "print('Test loss:', test_loss)"
   ]
  },
  {
   "cell_type": "code",
   "execution_count": 39,
   "metadata": {},
   "outputs": [
    {
     "name": "stdout",
     "output_type": "stream",
     "text": [
      "55/55 [==============================] - 0s 4ms/step\n",
      "7/7 [==============================] - 0s 5ms/step\n",
      "15/15 [==============================] - 0s 5ms/step\n"
     ]
    }
   ],
   "source": [
    "# Make predictions and visualize the results\n",
    "y_train_pred = model.predict(X_train)\n",
    "y_val_pred = model.predict(X_val)\n",
    "y_test_pred = model.predict(X_test)"
   ]
  },
  {
   "cell_type": "code",
   "execution_count": 40,
   "metadata": {},
   "outputs": [],
   "source": [
    "# y_train_pred_reshaped = y_train_pred.reshape(-1, 1)"
   ]
  },
  {
   "cell_type": "code",
   "execution_count": 41,
   "metadata": {},
   "outputs": [],
   "source": [
    "y_train_pred_inverse = scaler.inverse_transform(np.concatenate((y_train_pred, X_train[:, 0, :]), axis=1))[:, 0]\n",
    "y_val_pred_inverse = scaler.inverse_transform(np.concatenate((y_val_pred, X_val[:, 0, :]), axis=1))[:, 0]\n",
    "y_test_pred_inverse = scaler.inverse_transform(np.concatenate((y_test_pred, X_test[:, 0, :]), axis=1))[:, 0]"
   ]
  },
  {
   "cell_type": "code",
   "execution_count": 42,
   "metadata": {},
   "outputs": [
    {
     "data": {
      "image/png": "[encoded data removed]",
      "text/plain": [
       "<Figure size 1152x576 with 1 Axes>"
      ]
     },
     "metadata": {
      "needs_background": "light"
     },
     "output_type": "display_data"
    }
   ],
   "source": [
    "plt.figure(figsize=(16, 8))\n",
    "\n",
    "plt.plot(Cleansed_df.index[:train_size], Cleansed_df.iloc[:train_size, 0], label='Actual (train)')\n",
    "plt.plot(Cleansed_df.index[train_size:train_size+val_size], Cleansed_df.iloc[train_size:train_size+val_size, 0], label='Actual (validation)')\n",
    "plt.plot(Cleansed_df.index[train_size+val_size:], Cleansed_df.iloc[train_size+val_size:, 0], label='Actual (test)')\n",
    "\n",
    "plt.plot(Cleansed_df.index[time_steps:train_size], y_train_pred_inverse, label='Predicted (train)')\n",
    "plt.plot(Cleansed_df.index[train_size+time_steps:train_size+val_size], y_val_pred_inverse, label='Predicted (validation)')\n",
    "plt.plot(Cleansed_df.index[train_size+val_size+time_steps:], y_test_pred_inverse, label='Predicted (test)')\n",
    "\n",
    "plt.legend()\n",
    "plt.show()"
   ]
  },
  {
   "cell_type": "code",
   "execution_count": 43,
   "metadata": {},
   "outputs": [
    {
     "data": {
      "text/plain": [
       "{'loss': [0.040131937712430954,\n",
       "  0.033413808792829514,\n",
       "  0.029400084167718887,\n",
       "  0.03054281324148178,\n",
       "  0.027602436020970345,\n",
       "  0.031737834215164185,\n",
       "  0.027196185663342476,\n",
       "  0.027727406471967697,\n",
       "  0.026022227481007576,\n",
       "  0.024788888171315193],\n",
       " 'val_loss': [0.034585874527692795,\n",
       "  1.365592122077942,\n",
       "  0.5839080810546875,\n",
       "  0.3000655770301819,\n",
       "  0.09433969110250473,\n",
       "  0.24669583141803741,\n",
       "  0.36854371428489685,\n",
       "  0.18983395397663116,\n",
       "  0.4410678744316101,\n",
       "  0.44214820861816406]}"
      ]
     },
     "execution_count": 43,
     "metadata": {},
     "output_type": "execute_result"
    }
   ],
   "source": [
    "history.history"
   ]
  },
  {
   "cell_type": "code",
   "execution_count": 44,
   "metadata": {},
   "outputs": [
    {
     "data": {
      "text/plain": [
       "<AxesSubplot:>"
      ]
     },
     "execution_count": 44,
     "metadata": {},
     "output_type": "execute_result"
    },
    {
     "data": {
      "image/png": "[encoded data removed]",
      "text/plain": [
       "<Figure size 576x360 with 1 Axes>"
      ]
     },
     "metadata": {
      "needs_background": "light"
     },
     "output_type": "display_data"
    }
   ],
   "source": [
    "pd.DataFrame(history.history).plot(figsize=(8,5))"
   ]
  },
  {
   "cell_type": "code",
   "execution_count": 45,
   "metadata": {},
   "outputs": [
    {
     "data": {
      "text/plain": [
       "(1742, 60, 2)"
      ]
     },
     "execution_count": 45,
     "metadata": {},
     "output_type": "execute_result"
    }
   ],
   "source": [
    "X_train.shape"
   ]
  },
  {
   "cell_type": "code",
   "execution_count": 46,
   "metadata": {},
   "outputs": [
    {
     "name": "stdout",
     "output_type": "stream",
     "text": [
      "Epoch 1/15\n",
      "Epoch 2/15\n",
      "Epoch 3/15\n",
      "Epoch 4/15\n",
      "Epoch 5/15\n",
      "Epoch 6/15\n",
      "Epoch 7/15\n",
      "Epoch 8/15\n",
      "Epoch 9/15\n",
      "Epoch 10/15\n",
      "Epoch 11/15\n",
      "Epoch 12/15\n",
      "Epoch 13/15\n",
      "Epoch 14/15\n",
      "Epoch 15/15\n",
      "55/55 [==============================] - 1s 18ms/step - loss: 0.0257\n",
      "7/7 [==============================] - 0s 18ms/step - loss: 0.6037\n",
      "15/15 [==============================] - 0s 19ms/step - loss: 0.2299\n",
      "Train loss: 0.0257182065397501\n",
      "Validation loss: 0.6037020087242126\n",
      "Test loss: 0.22985349595546722\n",
      "55/55 [==============================] - 2s 17ms/step\n",
      "7/7 [==============================] - 0s 18ms/step\n",
      "15/15 [==============================] - 0s 18ms/step\n"
     ]
    },
    {
     "data": {
      "image/png": "[encoded data removed]",
      "text/plain": [
       "<Figure size 1152x576 with 1 Axes>"
      ]
     },
     "metadata": {
      "needs_background": "light"
     },
     "output_type": "display_data"
    }
   ],
   "source": [
    "backend.clear_session()\n",
    "\n",
    "model = Sequential()\n",
    "model.add(LSTM(50, return_sequences=True, input_shape=(X_train.shape[1], X_train.shape[2])))\n",
    "model.add(Dropout(0.2))\n",
    "# Adding a second LSTM layer and some Dropout regularisation\n",
    "model.add(LSTM(units=50, return_sequences=True))\n",
    "model.add(Dropout(0.2))\n",
    "# Adding a third LSTM layer and some Dropout regularisation\n",
    "model.add(LSTM(units=50, return_sequences=True))\n",
    "model.add(Dropout(0.2))\n",
    "# Adding a fourth LSTM layer and some Dropout regularisation\n",
    "model.add(LSTM(units=50))\n",
    "model.add(Dropout(0.2))\n",
    "# Adding the output layer\n",
    "model.add(Dense(units=1))\n",
    "\n",
    "lr = 0.0001\n",
    "\n",
    "# Compiling the RNN\n",
    "model.compile(loss='mse', optimizer=Adam(lr=lr))\n",
    "\n",
    "history = model.fit(X_train, y_train, epochs=15, batch_size=10, validation_data=(X_val, y_val), verbose=3)\n",
    "\n",
    "# Evaluate the model\n",
    "train_loss = model.evaluate(X_train, y_train, verbose=1)\n",
    "val_loss = model.evaluate(X_val, y_val, verbose=1)\n",
    "test_loss = model.evaluate(X_test, y_test, verbose=1)\n",
    "print('Train loss:', train_loss)\n",
    "print('Validation loss:', val_loss)\n",
    "print('Test loss:', test_loss)\n",
    "\n",
    "# Make predictions and visualize the results\n",
    "y_train_pred = model.predict(X_train)\n",
    "y_val_pred = model.predict(X_val)\n",
    "y_test_pred = model.predict(X_test)\n",
    "\n",
    "y_train_pred_inverse = scaler.inverse_transform(np.concatenate((y_train_pred, X_train[:, 0, :]), axis=1))[:, 0]\n",
    "y_val_pred_inverse = scaler.inverse_transform(np.concatenate((y_val_pred, X_val[:, 0, :]), axis=1))[:, 0]\n",
    "y_test_pred_inverse = scaler.inverse_transform(np.concatenate((y_test_pred, X_test[:, 0, :]), axis=1))[:, 0]\n",
    "\n",
    "plt.figure(figsize=(16, 8))\n",
    "\n",
    "plt.plot(Cleansed_df.index[:train_size], Cleansed_df.iloc[:train_size, 0], label='Actual (train)')\n",
    "plt.plot(Cleansed_df.index[train_size:train_size+val_size], Cleansed_df.iloc[train_size:train_size+val_size, 0], label='Actual (validation)')\n",
    "plt.plot(Cleansed_df.index[train_size+val_size:], Cleansed_df.iloc[train_size+val_size:, 0], label='Actual (test)')\n",
    "\n",
    "plt.plot(Cleansed_df.index[time_steps:train_size], y_train_pred_inverse, label='Predicted (train)')\n",
    "plt.plot(Cleansed_df.index[train_size+time_steps:train_size+val_size], y_val_pred_inverse, label='Predicted (validation)')\n",
    "plt.plot(Cleansed_df.index[train_size+val_size+time_steps:], y_test_pred_inverse, label='Predicted (test)')\n",
    "\n",
    "plt.legend()\n",
    "plt.show()"
   ]
  },
  {
   "cell_type": "code",
   "execution_count": 47,
   "metadata": {},
   "outputs": [
    {
     "name": "stdout",
     "output_type": "stream",
     "text": [
      "Epoch 1/20\n",
      "349/349 [==============================] - 20s 48ms/step - loss: 0.0428 - val_loss: 0.0953\n",
      "Epoch 2/20\n",
      "349/349 [==============================] - 17s 48ms/step - loss: 0.0351 - val_loss: 0.4662\n",
      "Epoch 3/20\n",
      "349/349 [==============================] - 17s 48ms/step - loss: 0.0339 - val_loss: 0.2452\n",
      "Epoch 4/20\n",
      "349/349 [==============================] - 17s 48ms/step - loss: 0.0321 - val_loss: 0.0439\n",
      "Epoch 5/20\n",
      "349/349 [==============================] - 17s 50ms/step - loss: 0.0331 - val_loss: 0.1242\n",
      "Epoch 6/20\n",
      "349/349 [==============================] - 18s 52ms/step - loss: 0.0302 - val_loss: 0.4023\n",
      "Epoch 7/20\n",
      "349/349 [==============================] - 21s 60ms/step - loss: 0.0305 - val_loss: 0.1411\n",
      "Epoch 8/20\n",
      "349/349 [==============================] - 19s 54ms/step - loss: 0.0357 - val_loss: 0.0714\n",
      "Epoch 9/20\n",
      "349/349 [==============================] - 21s 60ms/step - loss: 0.0316 - val_loss: 0.1739\n",
      "Epoch 10/20\n",
      "349/349 [==============================] - 21s 61ms/step - loss: 0.0293 - val_loss: 0.3195\n",
      "Epoch 11/20\n",
      "349/349 [==============================] - 18s 53ms/step - loss: 0.0269 - val_loss: 0.4167\n",
      "Epoch 12/20\n",
      "349/349 [==============================] - 18s 52ms/step - loss: 0.0332 - val_loss: 0.2284\n",
      "Epoch 13/20\n",
      "349/349 [==============================] - 18s 52ms/step - loss: 0.0314 - val_loss: 0.0991\n",
      "Epoch 14/20\n",
      "349/349 [==============================] - 18s 51ms/step - loss: 0.0278 - val_loss: 0.1916\n",
      "Epoch 15/20\n",
      "349/349 [==============================] - 18s 51ms/step - loss: 0.0248 - val_loss: 0.2369\n",
      "Epoch 16/20\n",
      "349/349 [==============================] - 18s 52ms/step - loss: 0.0250 - val_loss: 0.2563\n",
      "Epoch 17/20\n",
      "349/349 [==============================] - 18s 52ms/step - loss: 0.0294 - val_loss: 0.1314\n",
      "Epoch 18/20\n",
      "349/349 [==============================] - 21s 59ms/step - loss: 0.0316 - val_loss: 0.1250\n",
      "Epoch 19/20\n",
      "349/349 [==============================] - 22s 62ms/step - loss: 0.0338 - val_loss: 0.3249\n",
      "Epoch 20/20\n",
      "349/349 [==============================] - 19s 55ms/step - loss: 0.0282 - val_loss: 0.8034\n",
      "Train loss: 0.050530821084976196\n",
      "Validation loss: 0.8034063577651978\n",
      "Test loss: 1.7197016477584839\n",
      "55/55 [==============================] - 2s 20ms/step\n",
      "7/7 [==============================] - 0s 20ms/step\n",
      "15/15 [==============================] - 0s 22ms/step\n"
     ]
    },
    {
     "data": {
      "image/png": "[encoded data removed]",
      "text/plain": [
       "<Figure size 1152x576 with 1 Axes>"
      ]
     },
     "metadata": {
      "needs_background": "light"
     },
     "output_type": "display_data"
    },
    {
     "data": {
      "text/plain": [
       "<AxesSubplot:>"
      ]
     },
     "execution_count": 47,
     "metadata": {},
     "output_type": "execute_result"
    },
    {
     "data": {
      "image/png": "[encoded data removed]",
      "text/plain": [
       "<Figure size 576x360 with 1 Axes>"
      ]
     },
     "metadata": {
      "needs_background": "light"
     },
     "output_type": "display_data"
    }
   ],
   "source": [
    "model = Sequential()\n",
    "model.add(LSTM(50, return_sequences=True, input_shape=(X_train.shape[1], X_train.shape[2])))\n",
    "model.add(Dropout(0.2))\n",
    "# Adding a second LSTM layer and some Dropout regularisation\n",
    "model.add(LSTM(units=50, return_sequences=True))\n",
    "model.add(Dropout(0.2))\n",
    "# Adding a third LSTM layer and some Dropout regularisation\n",
    "model.add(LSTM(units=50, return_sequences=True))\n",
    "model.add(Dropout(0.2))\n",
    "# Adding a fourth LSTM layer and some Dropout regularisation\n",
    "model.add(LSTM(units=50))\n",
    "model.add(Dropout(0.2))\n",
    "# Adding the output layer\n",
    "model.add(Dense(units=1))\n",
    "\n",
    "lr = 0.001\n",
    "\n",
    "# Compiling the RNN\n",
    "model.compile(loss='mse', optimizer=Adam(lr=lr))\n",
    "\n",
    "history = model.fit(X_train, y_train, epochs=20, batch_size=5, validation_data=(X_val, y_val), verbose=1)\n",
    "\n",
    "# Evaluate the model\n",
    "train_loss = model.evaluate(X_train, y_train, verbose=0)\n",
    "val_loss = model.evaluate(X_val, y_val, verbose=0)\n",
    "test_loss = model.evaluate(X_test, y_test, verbose=0)\n",
    "print('Train loss:', train_loss)\n",
    "print('Validation loss:', val_loss)\n",
    "print('Test loss:', test_loss)\n",
    "\n",
    "# Make predictions and visualize the results\n",
    "y_train_pred = model.predict(X_train)\n",
    "y_val_pred = model.predict(X_val)\n",
    "y_test_pred = model.predict(X_test)\n",
    "\n",
    "y_train_pred_inverse = scaler.inverse_transform(np.concatenate((y_train_pred, X_train[:, 0, :]), axis=1))[:, 0]\n",
    "y_val_pred_inverse = scaler.inverse_transform(np.concatenate((y_val_pred, X_val[:, 0, :]), axis=1))[:, 0]\n",
    "y_test_pred_inverse = scaler.inverse_transform(np.concatenate((y_test_pred, X_test[:, 0, :]), axis=1))[:, 0]\n",
    "\n",
    "plt.figure(figsize=(16, 8))\n",
    "\n",
    "plt.plot(Cleansed_df.index[:train_size], Cleansed_df.iloc[:train_size, 0], label='Actual (train)')\n",
    "plt.plot(Cleansed_df.index[train_size:train_size+val_size], Cleansed_df.iloc[train_size:train_size+val_size, 0], label='Actual (validation)')\n",
    "plt.plot(Cleansed_df.index[train_size+val_size:], Cleansed_df.iloc[train_size+val_size:, 0], label='Actual (test)')\n",
    "\n",
    "plt.plot(Cleansed_df.index[time_steps:train_size], y_train_pred_inverse, label='Predicted (train)')\n",
    "plt.plot(Cleansed_df.index[train_size+time_steps:train_size+val_size], y_val_pred_inverse, label='Predicted (validation)')\n",
    "plt.plot(Cleansed_df.index[train_size+val_size+time_steps:], y_test_pred_inverse, label='Predicted (test)')\n",
    "\n",
    "plt.legend()\n",
    "plt.show()\n",
    "\n",
    "pd.DataFrame(history.history).plot(figsize=(8,5))"
   ]
  },
  {
   "cell_type": "markdown",
   "metadata": {},
   "source": [
    "# Using xgboost in prediction"
   ]
  },
  {
   "cell_type": "code",
   "execution_count": 48,
   "metadata": {},
   "outputs": [],
   "source": [
    "from xgboost import XGBRegressor\n",
    "from xgboost import plot_importance, plot_tree\n",
    "from sklearn.metrics import mean_squared_error, mean_absolute_error\n",
    "plt.style.use('fivethirtyeight')"
   ]
  },
  {
   "cell_type": "code",
   "execution_count": 51,
   "metadata": {},
   "outputs": [],
   "source": [
    "X_train = X_train.reshape(X_train.shape[0], -1)\n",
    "X_val = X_val.reshape(X_val.shape[0], -1)\n",
    "X_test = X_test.reshape(X_test.shape[0], -1)"
   ]
  },
  {
   "cell_type": "code",
   "execution_count": 52,
   "metadata": {},
   "outputs": [
    {
     "name": "stdout",
     "output_type": "stream",
     "text": [
      "[0]\tvalidation_0-rmse:0.65921\n",
      "[100]\tvalidation_0-rmse:0.45419\n",
      "[200]\tvalidation_0-rmse:0.44784\n",
      "[300]\tvalidation_0-rmse:0.44666\n",
      "[400]\tvalidation_0-rmse:0.44702\n",
      "[500]\tvalidation_0-rmse:0.44704\n",
      "[600]\tvalidation_0-rmse:0.44707\n",
      "[700]\tvalidation_0-rmse:0.44706\n",
      "[800]\tvalidation_0-rmse:0.44706\n",
      "[900]\tvalidation_0-rmse:0.44705\n",
      "[999]\tvalidation_0-rmse:0.44706\n"
     ]
    },
    {
     "data": {
      "text/plain": [
       "XGBRegressor(base_score=None, booster=None, callbacks=None,\n",
       "             colsample_bylevel=None, colsample_bynode=None,\n",
       "             colsample_bytree=0.7, early_stopping_rounds=None,\n",
       "             enable_categorical=False, eval_metric=None, feature_types=None,\n",
       "             gamma=None, gpu_id=None, grow_policy=None, importance_type=None,\n",
       "             interaction_constraints=None, learning_rate=0.03, max_bin=None,\n",
       "             max_cat_threshold=None, max_cat_to_onehot=None,\n",
       "             max_delta_step=None, max_depth=12, max_leaves=None,\n",
       "             min_child_weight=None, missing=-999, monotone_constraints=None,\n",
       "             n_estimators=1000, n_jobs=None, num_parallel_tree=None,\n",
       "             predictor=None, random_state=42, ...)"
      ]
     },
     "execution_count": 52,
     "metadata": {},
     "output_type": "execute_result"
    }
   ],
   "source": [
    "backend.clear_session()\n",
    "# Train the XGBoost model\n",
    "xgb_model = XGBRegressor(\n",
    "    n_estimators=1000,\n",
    "    learning_rate=0.03,\n",
    "    max_depth=12,\n",
    "    subsample=0.9,\n",
    "    colsample_bytree=0.7,\n",
    "    missing=-999,\n",
    "    random_state=42,\n",
    "    tree_method='gpu_hist')\n",
    "\n",
    "xgb_model.fit(X_train, y_train,\n",
    "             eval_set = [(X_val, y_val)],\n",
    "            verbose=100)"
   ]
  },
  {
   "cell_type": "code",
   "execution_count": 53,
   "metadata": {},
   "outputs": [],
   "source": [
    "y_train_pred_1 = xgb_model.predict(X_train)\n",
    "y_val_pred_1 = xgb_model.predict(X_val)\n",
    "y_test_pred_1 = xgb_model.predict(X_test)"
   ]
  },
  {
   "cell_type": "code",
   "execution_count": 54,
   "metadata": {},
   "outputs": [
    {
     "name": "stdout",
     "output_type": "stream",
     "text": [
      "Mean Absolute Error: 0.6940000920337348\n"
     ]
    }
   ],
   "source": [
    "from sklearn.metrics import mean_absolute_error\n",
    "mae = mean_absolute_error(y_test, y_test_pred_1)\n",
    "print(\"Mean Absolute Error:\", mae)"
   ]
  },
  {
   "cell_type": "code",
   "execution_count": 56,
   "metadata": {},
   "outputs": [
    {
     "name": "stdout",
     "output_type": "stream",
     "text": [
      "(1742,)\n",
      "(197,)\n",
      "(456,)\n"
     ]
    }
   ],
   "source": [
    "print(y_train_pred_1.shape)\n",
    "print(y_val_pred_1.shape)\n",
    "print(y_test_pred_1.shape)"
   ]
  },
  {
   "cell_type": "code",
   "execution_count": 55,
   "metadata": {},
   "outputs": [
    {
     "ename": "IndexError",
     "evalue": "too many indices for array: array is 2-dimensional, but 3 were indexed",
     "output_type": "error",
     "traceback": [
      "\u001b[1;31m---------------------------------------------------------------------------\u001b[0m",
      "\u001b[1;31mIndexError\u001b[0m                                Traceback (most recent call last)",
      "\u001b[1;32m<ipython-input-55-44f9c4edd420>\u001b[0m in \u001b[0;36m<module>\u001b[1;34m\u001b[0m\n\u001b[1;32m----> 1\u001b[1;33m \u001b[0my_train_pred_inverse_xgb\u001b[0m \u001b[1;33m=\u001b[0m \u001b[0mscaler\u001b[0m\u001b[1;33m.\u001b[0m\u001b[0minverse_transform\u001b[0m\u001b[1;33m(\u001b[0m\u001b[0mnp\u001b[0m\u001b[1;33m.\u001b[0m\u001b[0mconcatenate\u001b[0m\u001b[1;33m(\u001b[0m\u001b[1;33m(\u001b[0m\u001b[0my_train_pred_1\u001b[0m\u001b[1;33m,\u001b[0m \u001b[0mX_train\u001b[0m\u001b[1;33m[\u001b[0m\u001b[1;33m:\u001b[0m\u001b[1;33m,\u001b[0m \u001b[1;36m0\u001b[0m\u001b[1;33m,\u001b[0m \u001b[1;33m:\u001b[0m\u001b[1;33m]\u001b[0m\u001b[1;33m)\u001b[0m\u001b[1;33m,\u001b[0m \u001b[0maxis\u001b[0m\u001b[1;33m=\u001b[0m\u001b[1;36m1\u001b[0m\u001b[1;33m)\u001b[0m\u001b[1;33m)\u001b[0m\u001b[1;33m[\u001b[0m\u001b[1;33m:\u001b[0m\u001b[1;33m,\u001b[0m \u001b[1;36m0\u001b[0m\u001b[1;33m]\u001b[0m\u001b[1;33m\u001b[0m\u001b[1;33m\u001b[0m\u001b[0m\n\u001b[0m\u001b[0;32m      2\u001b[0m \u001b[0my_val_pred_inverse_xgb\u001b[0m \u001b[1;33m=\u001b[0m \u001b[0mscaler\u001b[0m\u001b[1;33m.\u001b[0m\u001b[0minverse_transform\u001b[0m\u001b[1;33m(\u001b[0m\u001b[0mnp\u001b[0m\u001b[1;33m.\u001b[0m\u001b[0mconcatenate\u001b[0m\u001b[1;33m(\u001b[0m\u001b[1;33m(\u001b[0m\u001b[0my_val_pred_1\u001b[0m\u001b[1;33m,\u001b[0m \u001b[0mX_val\u001b[0m\u001b[1;33m[\u001b[0m\u001b[1;33m:\u001b[0m\u001b[1;33m,\u001b[0m \u001b[1;36m0\u001b[0m\u001b[1;33m,\u001b[0m \u001b[1;33m:\u001b[0m\u001b[1;33m]\u001b[0m\u001b[1;33m)\u001b[0m\u001b[1;33m,\u001b[0m \u001b[0maxis\u001b[0m\u001b[1;33m=\u001b[0m\u001b[1;36m1\u001b[0m\u001b[1;33m)\u001b[0m\u001b[1;33m)\u001b[0m\u001b[1;33m[\u001b[0m\u001b[1;33m:\u001b[0m\u001b[1;33m,\u001b[0m \u001b[1;36m0\u001b[0m\u001b[1;33m]\u001b[0m\u001b[1;33m\u001b[0m\u001b[1;33m\u001b[0m\u001b[0m\n\u001b[0;32m      3\u001b[0m \u001b[0my_test_pred_inverse_xgb\u001b[0m \u001b[1;33m=\u001b[0m \u001b[0mscaler\u001b[0m\u001b[1;33m.\u001b[0m\u001b[0minverse_transform\u001b[0m\u001b[1;33m(\u001b[0m\u001b[0mnp\u001b[0m\u001b[1;33m.\u001b[0m\u001b[0mconcatenate\u001b[0m\u001b[1;33m(\u001b[0m\u001b[1;33m(\u001b[0m\u001b[0my_test_pred_1\u001b[0m\u001b[1;33m,\u001b[0m \u001b[0mX_test\u001b[0m\u001b[1;33m[\u001b[0m\u001b[1;33m:\u001b[0m\u001b[1;33m,\u001b[0m \u001b[1;36m0\u001b[0m\u001b[1;33m,\u001b[0m \u001b[1;33m:\u001b[0m\u001b[1;33m]\u001b[0m\u001b[1;33m)\u001b[0m\u001b[1;33m,\u001b[0m \u001b[0maxis\u001b[0m\u001b[1;33m=\u001b[0m\u001b[1;36m1\u001b[0m\u001b[1;33m)\u001b[0m\u001b[1;33m)\u001b[0m\u001b[1;33m[\u001b[0m\u001b[1;33m:\u001b[0m\u001b[1;33m,\u001b[0m \u001b[1;36m0\u001b[0m\u001b[1;33m]\u001b[0m\u001b[1;33m\u001b[0m\u001b[1;33m\u001b[0m\u001b[0m\n",
      "\u001b[1;31mIndexError\u001b[0m: too many indices for array: array is 2-dimensional, but 3 were indexed"
     ]
    }
   ],
   "source": [
    "y_train_pred_inverse_xgb = scaler.inverse_transform(np.concatenate((y_train_pred_1.reshape(-1, 1), X_train[:, :1, :]), axis=1))[:, 0]\n",
    "y_val_pred_inverse_xgb = scaler.inverse_transform(np.concatenate((y_val_pred_1.reshape(-1, 1), X_val[:, :1, :]), axis=1))[:, 0]\n",
    "y_test_pred_inverse_xgb = scaler.inverse_transform(np.concatenate((y_test_pred_1.reshape(-1, 1), X_test[:, :1, :]), axis=1))[:, 0]"
   ]
  },
  {
   "cell_type": "code",
   "execution_count": 57,
   "metadata": {},
   "outputs": [
    {
     "ename": "IndexError",
     "evalue": "too many indices for array: array is 2-dimensional, but 3 were indexed",
     "output_type": "error",
     "traceback": [
      "\u001b[1;31m---------------------------------------------------------------------------\u001b[0m",
      "\u001b[1;31mIndexError\u001b[0m                                Traceback (most recent call last)",
      "\u001b[1;32m<ipython-input-57-941c5f3a66b1>\u001b[0m in \u001b[0;36m<module>\u001b[1;34m\u001b[0m\n\u001b[1;32m----> 1\u001b[1;33m \u001b[0my_train_pred_inverse_xgb\u001b[0m \u001b[1;33m=\u001b[0m \u001b[0mscaler\u001b[0m\u001b[1;33m.\u001b[0m\u001b[0minverse_transform\u001b[0m\u001b[1;33m(\u001b[0m\u001b[0mnp\u001b[0m\u001b[1;33m.\u001b[0m\u001b[0mconcatenate\u001b[0m\u001b[1;33m(\u001b[0m\u001b[1;33m(\u001b[0m\u001b[0my_train_pred_1\u001b[0m\u001b[1;33m.\u001b[0m\u001b[0mreshape\u001b[0m\u001b[1;33m(\u001b[0m\u001b[1;33m-\u001b[0m\u001b[1;36m1\u001b[0m\u001b[1;33m,\u001b[0m \u001b[1;36m1\u001b[0m\u001b[1;33m)\u001b[0m\u001b[1;33m,\u001b[0m \u001b[0mX_train\u001b[0m\u001b[1;33m[\u001b[0m\u001b[1;33m:\u001b[0m\u001b[1;33m,\u001b[0m \u001b[1;33m:\u001b[0m\u001b[1;36m1\u001b[0m\u001b[1;33m,\u001b[0m \u001b[1;33m:\u001b[0m\u001b[1;33m]\u001b[0m\u001b[1;33m)\u001b[0m\u001b[1;33m,\u001b[0m \u001b[0maxis\u001b[0m\u001b[1;33m=\u001b[0m\u001b[1;36m1\u001b[0m\u001b[1;33m)\u001b[0m\u001b[1;33m)\u001b[0m\u001b[1;33m[\u001b[0m\u001b[1;33m:\u001b[0m\u001b[1;33m,\u001b[0m \u001b[1;36m0\u001b[0m\u001b[1;33m]\u001b[0m\u001b[1;33m\u001b[0m\u001b[1;33m\u001b[0m\u001b[0m\n\u001b[0m\u001b[0;32m      2\u001b[0m \u001b[0my_val_pred_inverse_xgb\u001b[0m \u001b[1;33m=\u001b[0m \u001b[0mscaler\u001b[0m\u001b[1;33m.\u001b[0m\u001b[0minverse_transform\u001b[0m\u001b[1;33m(\u001b[0m\u001b[0mnp\u001b[0m\u001b[1;33m.\u001b[0m\u001b[0mconcatenate\u001b[0m\u001b[1;33m(\u001b[0m\u001b[1;33m(\u001b[0m\u001b[0my_val_pred_1\u001b[0m\u001b[1;33m.\u001b[0m\u001b[0mreshape\u001b[0m\u001b[1;33m(\u001b[0m\u001b[1;33m-\u001b[0m\u001b[1;36m1\u001b[0m\u001b[1;33m,\u001b[0m \u001b[1;36m1\u001b[0m\u001b[1;33m)\u001b[0m\u001b[1;33m,\u001b[0m \u001b[0mX_val\u001b[0m\u001b[1;33m[\u001b[0m\u001b[1;33m:\u001b[0m\u001b[1;33m,\u001b[0m \u001b[1;33m:\u001b[0m\u001b[1;36m1\u001b[0m\u001b[1;33m,\u001b[0m \u001b[1;33m:\u001b[0m\u001b[1;33m]\u001b[0m\u001b[1;33m)\u001b[0m\u001b[1;33m,\u001b[0m \u001b[0maxis\u001b[0m\u001b[1;33m=\u001b[0m\u001b[1;36m1\u001b[0m\u001b[1;33m)\u001b[0m\u001b[1;33m)\u001b[0m\u001b[1;33m[\u001b[0m\u001b[1;33m:\u001b[0m\u001b[1;33m,\u001b[0m \u001b[1;36m0\u001b[0m\u001b[1;33m]\u001b[0m\u001b[1;33m\u001b[0m\u001b[1;33m\u001b[0m\u001b[0m\n\u001b[0;32m      3\u001b[0m \u001b[0my_test_pred_inverse_xgb\u001b[0m \u001b[1;33m=\u001b[0m \u001b[0mscaler\u001b[0m\u001b[1;33m.\u001b[0m\u001b[0minverse_transform\u001b[0m\u001b[1;33m(\u001b[0m\u001b[0mnp\u001b[0m\u001b[1;33m.\u001b[0m\u001b[0mconcatenate\u001b[0m\u001b[1;33m(\u001b[0m\u001b[1;33m(\u001b[0m\u001b[0my_test_pred_1\u001b[0m\u001b[1;33m.\u001b[0m\u001b[0mreshape\u001b[0m\u001b[1;33m(\u001b[0m\u001b[1;33m-\u001b[0m\u001b[1;36m1\u001b[0m\u001b[1;33m,\u001b[0m \u001b[1;36m1\u001b[0m\u001b[1;33m)\u001b[0m\u001b[1;33m,\u001b[0m \u001b[0mX_test\u001b[0m\u001b[1;33m[\u001b[0m\u001b[1;33m:\u001b[0m\u001b[1;33m,\u001b[0m \u001b[1;33m:\u001b[0m\u001b[1;36m1\u001b[0m\u001b[1;33m,\u001b[0m \u001b[1;33m:\u001b[0m\u001b[1;33m]\u001b[0m\u001b[1;33m)\u001b[0m\u001b[1;33m,\u001b[0m \u001b[0maxis\u001b[0m\u001b[1;33m=\u001b[0m\u001b[1;36m1\u001b[0m\u001b[1;33m)\u001b[0m\u001b[1;33m)\u001b[0m\u001b[1;33m[\u001b[0m\u001b[1;33m:\u001b[0m\u001b[1;33m,\u001b[0m \u001b[1;36m0\u001b[0m\u001b[1;33m]\u001b[0m\u001b[1;33m\u001b[0m\u001b[1;33m\u001b[0m\u001b[0m\n",
      "\u001b[1;31mIndexError\u001b[0m: too many indices for array: array is 2-dimensional, but 3 were indexed"
     ]
    }
   ],
   "source": [
    "y_train_pred_inverse_xgb = scaler.inverse_transform(np.concatenate((y_train_pred_1.reshape(-1, 1), X_train[:, :1, :]), axis=1))[:, 0]\n",
    "y_val_pred_inverse_xgb = scaler.inverse_transform(np.concatenate((y_val_pred_1.reshape(-1, 1), X_val[:, :1, :]), axis=1))[:, 0]\n",
    "y_test_pred_inverse_xgb = scaler.inverse_transform(np.concatenate((y_test_pred_1.reshape(-1, 1), X_test[:, :1, :]), axis=1))[:, 0]"
   ]
  },
  {
   "cell_type": "code",
   "execution_count": null,
   "metadata": {},
   "outputs": [],
   "source": [
    "# Plot the actual and predicted values\n",
    "plt.plot(y_test, label='Actual')\n",
    "plt.plot(y_test_pred_1, label='Predicted')\n",
    "plt.legend()\n",
    "plt.show()"
   ]
  },
  {
   "cell_type": "code",
   "execution_count": null,
   "metadata": {},
   "outputs": [],
   "source": [
    "\n",
    "plt.figure(figsize=(16, 8))\n",
    "\n",
    "plt.plot(Cleansed_df.index[:train_size], Cleansed_df.iloc[:train_size, 0], label='Actual (train)')\n",
    "plt.plot(Cleansed_df.index[train_size:train_size+val_size], Cleansed_df.iloc[train_size:train_size+val_size, 0], label='Actual (validation)')\n",
    "plt.plot(Cleansed_df.index[train_size+val_size:], Cleansed_df.iloc[train_size+val_size:, 0], label='Actual (test)')\n",
    "\n",
    "plt.plot(Cleansed_df.index[time_steps:train_size], y_train_pred_inverse_xgb, label='Predicted (train)')\n",
    "plt.plot(Cleansed_df.index[train_size+time_steps:train_size+val_size], y_val_pred_inverse_xgb, label='Predicted (validation)')\n",
    "plt.plot(Cleansed_df.index[train_size+val_size+time_steps:], y_test_pred_inverse_xgb, label='Predicted (test)')\n",
    "\n",
    "plt.legend()\n",
    "plt.show()"
   ]
  },
  {
   "cell_type": "markdown",
   "metadata": {},
   "source": [
    "# using RandomForest"
   ]
  },
  {
   "cell_type": "code",
   "execution_count": null,
   "metadata": {},
   "outputs": [],
   "source": [
    "from sklearn.ensemble import RandomForestRegressor\n",
    "from sklearn.datasets import make_regression"
   ]
  },
  {
   "cell_type": "code",
   "execution_count": null,
   "metadata": {},
   "outputs": [],
   "source": [
    "backend.clear_session()\n",
    "\n",
    "rf = RandomForestRegressor(n_estimators=10,random_state=0)\n",
    "rf.fit(X_train, y_train)"
   ]
  },
  {
   "cell_type": "code",
   "execution_count": null,
   "metadata": {},
   "outputs": [],
   "source": [
    "mae = mean_absolute_error(y_test, y_pred)\n",
    "print(\"Mean Absolute Error:\", mae)"
   ]
  },
  {
   "cell_type": "code",
   "execution_count": null,
   "metadata": {},
   "outputs": [],
   "source": [
    "#prediction the test set result\n",
    "y_train_pred_2 = rf.predict(X_train)\n",
    "y_val_pred_2 = rf.predict(X_val)\n",
    "y_test_pred_2 = rf.predict(X_test)"
   ]
  },
  {
   "cell_type": "code",
   "execution_count": null,
   "metadata": {},
   "outputs": [],
   "source": [
    "y_train_pred_inverse_rf = scaler.inverse_transform(np.concatenate((y_train_pred_2, X_train[:, 0, :]), axis=1))[:, 0]\n",
    "y_val_pred_inverse_rf = scaler.inverse_transform(np.concatenate((y_val_pred_2, X_val[:, 0, :]), axis=1))[:, 0]\n",
    "y_test_pred_inverse_rf = scaler.inverse_transform(np.concatenate((y_test_pred_2, X_test[:, 0, :]), axis=1))[:, 0]\n",
    "\n",
    "plt.figure(figsize=(16, 8))\n",
    "\n",
    "plt.plot(Cleansed_df.index[:train_size], Cleansed_df.iloc[:train_size, 0], label='Actual (train)')\n",
    "plt.plot(Cleansed_df.index[train_size:train_size+val_size], Cleansed_df.iloc[train_size:train_size+val_size, 0], label='Actual (validation)')\n",
    "plt.plot(Cleansed_df.index[train_size+val_size:], Cleansed_df.iloc[train_size+val_size:, 0], label='Actual (test)')\n",
    "\n",
    "plt.plot(Cleansed_df.index[time_steps:train_size], y_train_pred_inverse_rf, label='Predicted (train)')\n",
    "plt.plot(Cleansed_df.index[train_size+time_steps:train_size+val_size], y_val_pred_inverse_rf, label='Predicted (validation)')\n",
    "plt.plot(Cleansed_df.index[train_size+val_size+time_steps:], y_test_pred_inverse_rf, label='Predicted (test)')\n",
    "\n",
    "plt.legend()\n",
    "plt.show()"
   ]
  },
  {
   "cell_type": "markdown",
   "metadata": {},
   "source": [
    "# Using SVC"
   ]
  },
  {
   "cell_type": "code",
   "execution_count": null,
   "metadata": {},
   "outputs": [],
   "source": [
    "from sklearn.svm import SVR"
   ]
  },
  {
   "cell_type": "code",
   "execution_count": null,
   "metadata": {},
   "outputs": [],
   "source": [
    "backend.clear_session()\n",
    "\n",
    "svr_model = SVR(kernel='rbf', epsilon=0.1)\n",
    "svr_model.fit(X_train,y_train)"
   ]
  },
  {
   "cell_type": "code",
   "execution_count": null,
   "metadata": {},
   "outputs": [],
   "source": [
    "#prediction the test set result\n",
    "y_train_pred_3 = svr_model.predict(X_train)\n",
    "y_val_pred_3 = svr_model.predict(X_val)\n",
    "y_test_pred_3 = svr_model.predict(X_test)"
   ]
  },
  {
   "cell_type": "code",
   "execution_count": null,
   "metadata": {},
   "outputs": [],
   "source": [
    "y_train_pred_inverse_svr = scaler.inverse_transform(np.concatenate((y_train_pred_3, X_train[:, 0, :]), axis=1))[:, 0]\n",
    "y_val_pred_inverse_svr = scaler.inverse_transform(np.concatenate((y_val_pred_3, X_val[:, 0, :]), axis=1))[:, 0]\n",
    "y_test_pred_inverse_svr = scaler.inverse_transform(np.concatenate((y_test_pred_3, X_test[:, 0, :]), axis=1))[:, 0]\n",
    "\n",
    "plt.figure(figsize=(16, 8))\n",
    "\n",
    "plt.plot(Cleansed_df.index[:train_size], Cleansed_df.iloc[:train_size, 0], label='Actual (train)')\n",
    "plt.plot(Cleansed_df.index[train_size:train_size+val_size], Cleansed_df.iloc[train_size:train_size+val_size, 0], label='Actual (validation)')\n",
    "plt.plot(Cleansed_df.index[train_size+val_size:], Cleansed_df.iloc[train_size+val_size:, 0], label='Actual (test)')\n",
    "\n",
    "plt.plot(Cleansed_df.index[time_steps:train_size], y_train_pred_inverse_svr, label='Predicted (train)')\n",
    "plt.plot(Cleansed_df.index[train_size+time_steps:train_size+val_size], y_val_pred_inverse_svr, label='Predicted (validation)')\n",
    "plt.plot(Cleansed_df.index[train_size+val_size+time_steps:], y_test_pred_inverse_svr, label='Predicted (test)')\n",
    "\n",
    "plt.legend()\n",
    "plt.show()"
   ]
  }
 ],
 "metadata": {
  "kernelspec": {
   "display_name": "Python 3",
   "language": "python",
   "name": "python3"
  },
  "language_info": {
   "codemirror_mode": {
    "name": "ipython",
    "version": 3
   },
   "file_extension": ".py",
   "mimetype": "text/x-python",
   "name": "python",
   "nbconvert_exporter": "python",
   "pygments_lexer": "ipython3",
   "version": "3.8.5"
  }
 },
 "nbformat": 4,
 "nbformat_minor": 4
}
